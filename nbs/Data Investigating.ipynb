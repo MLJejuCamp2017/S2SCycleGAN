{
 "cells": [
  {
   "cell_type": "code",
   "execution_count": 1,
   "metadata": {
    "collapsed": true
   },
   "outputs": [],
   "source": [
    "import tensorflow as tf\n",
    "#import wave\n",
    "import glob\n",
    "import scipy.io.wavfile as wavfile\n",
    "import numpy as np\n",
    "from matplotlib import pyplot as plt\n",
    "from tqdm import tqdm\n",
    "%matplotlib inline"
   ]
  },
  {
   "cell_type": "code",
   "execution_count": 2,
   "metadata": {
    "collapsed": true
   },
   "outputs": [],
   "source": [
    "global SMP_RATE\n",
    "SMP_RATE = 16000"
   ]
  },
  {
   "cell_type": "code",
   "execution_count": 3,
   "metadata": {
    "collapsed": true
   },
   "outputs": [],
   "source": [
    "def getWaveName(wavepath):\n",
    "    return wavepath.split('/')[-1]\n",
    "\n",
    "def findWave(wavefile,path):\n",
    "    r = glob.glob(path+wavefile)\n",
    "    return r[0]"
   ]
  },
  {
   "cell_type": "code",
   "execution_count": 4,
   "metadata": {
    "collapsed": true
   },
   "outputs": [],
   "source": [
    "fpath = '../../cmu_artic/female_us_slt/' #desktop\n",
    "mpath = '../../cmu_artic/male_us_bdl/' #desktop\n",
    "#fpath = '../data/female_us/'\n",
    "#mpath = '../data/male_us/'"
   ]
  },
  {
   "cell_type": "code",
   "execution_count": 5,
   "metadata": {
    "collapsed": true
   },
   "outputs": [],
   "source": [
    "#male\n",
    "result = []\n",
    "for filename in glob.glob(mpath+'*.wav'):\n",
    "    fm, wav_data = wavfile.read(filename)\n",
    "    result.append(wav_data.shape[0]/(1.0*fm))\n",
    "    assert fm == SMP_RATE\n",
    "resultm = np.array(result)\n",
    "\n",
    "#female\n",
    "result = []\n",
    "for filename in glob.glob(fpath+'*.wav'):\n",
    "    fm, wav_data = wavfile.read(filename)\n",
    "    result.append(wav_data.shape[0]/(1.0*fm))\n",
    "    assert fm == SMP_RATE\n",
    "resultf = np.array(result)"
   ]
  },
  {
   "cell_type": "code",
   "execution_count": 6,
   "metadata": {},
   "outputs": [
    {
     "data": {
      "image/png": "[encoded data removed]",
      "text/plain": [
       "<matplotlib.figure.Figure at 0x7f8400480e10>"
      ]
     },
     "metadata": {},
     "output_type": "display_data"
    }
   ],
   "source": [
    "plt.subplot(211)\n",
    "plt.hist(resultm,bins=50)\n",
    "plt.subplot(212)\n",
    "plt.hist(resultf,bins=50)\n",
    "plt.show()"
   ]
  },
  {
   "cell_type": "markdown",
   "metadata": {},
   "source": [
    "# Hacky parallel dataset"
   ]
  },
  {
   "cell_type": "code",
   "execution_count": 7,
   "metadata": {
    "collapsed": true
   },
   "outputs": [],
   "source": [
    "# map male to female\n",
    "m2f = dict()\n",
    "for i in glob.glob(mpath+'/*.wav'):\n",
    "    m2f[i]=findWave(getWaveName(i),fpath)"
   ]
  },
  {
   "cell_type": "code",
   "execution_count": 8,
   "metadata": {},
   "outputs": [
    {
     "data": {
      "text/plain": [
       "'../../cmu_artic/male_us_bdl/arctic_b0515.wav'"
      ]
     },
     "execution_count": 8,
     "metadata": {},
     "output_type": "execute_result"
    }
   ],
   "source": [
    "m2f.keys()[0]"
   ]
  },
  {
   "cell_type": "markdown",
   "metadata": {},
   "source": [
    "# Bin before hand"
   ]
  },
  {
   "cell_type": "code",
   "execution_count": 9,
   "metadata": {
    "collapsed": true
   },
   "outputs": [],
   "source": [
    "bin_size_x = (2,3)\n",
    "bin_size_y = (2,3)"
   ]
  },
  {
   "cell_type": "code",
   "execution_count": 10,
   "metadata": {
    "collapsed": true
   },
   "outputs": [],
   "source": [
    "bin_mapping = {}\n",
    "for filename in glob.glob(mpath+'*.wav'):\n",
    "    fm, wav_data = wavfile.read(filename)\n",
    "    size = wav_data.shape[0]/(1.0*fm)\n",
    "    if size < bin_size_x[1] and size > bin_size_x[0]:\n",
    "        fm2, wav_data2 = wavfile.read(m2f[filename])\n",
    "        size2 = wav_data2.shape[0]/(1.0*fm2)\n",
    "        if size2 < bin_size_x[1] and size2 > bin_size_x[0]:\n",
    "            bin_mapping[filename] = m2f[filename]"
   ]
  },
  {
   "cell_type": "code",
   "execution_count": 11,
   "metadata": {},
   "outputs": [
    {
     "data": {
      "text/plain": [
       "348"
      ]
     },
     "execution_count": 11,
     "metadata": {},
     "output_type": "execute_result"
    }
   ],
   "source": [
    "len(bin_mapping)"
   ]
  },
  {
   "cell_type": "markdown",
   "metadata": {},
   "source": [
    "# Sec to Samples"
   ]
  },
  {
   "cell_type": "code",
   "execution_count": 12,
   "metadata": {
    "collapsed": true
   },
   "outputs": [],
   "source": [
    "def sec2samp(sec,smp_rate):\n",
    "    return int(sec*smp_rate)"
   ]
  },
  {
   "cell_type": "markdown",
   "metadata": {},
   "source": [
    "# Padding"
   ]
  },
  {
   "cell_type": "code",
   "execution_count": 13,
   "metadata": {
    "collapsed": true
   },
   "outputs": [],
   "source": [
    "def padTo(x,size,kind='SYM'):\n",
    "    \"\"\"\n",
    "    Expects 1D array\n",
    "    \"\"\"\n",
    "    assert kind in ['LEFT','RIGHT','SYM']\n",
    "    if kind == 'LEFT':\n",
    "        pad = np.zeros(size-len(x),dtype=x.dtype)\n",
    "        r=np.concatenate((pad,x),axis=0)\n",
    "    elif kind == 'RIGHT':\n",
    "        pad = np.zeros(size-len(x),dtype=x.dtype)\n",
    "        r=np.concatenate((x,pad),axis=0)\n",
    "    elif kind == 'SYM':\n",
    "        padl = np.zeros((size-len(x))/2,dtype=x.dtype)\n",
    "        padr = np.zeros((size-len(x))/2+(size-len(x))%2,dtype=x.dtype)\n",
    "        r = np.concatenate((padl,x,padr),axis=0)\n",
    "    return r"
   ]
  },
  {
   "cell_type": "code",
   "execution_count": 14,
   "metadata": {},
   "outputs": [
    {
     "data": {
      "text/plain": [
       "array([0, 0, 0, 1, 2, 3])"
      ]
     },
     "execution_count": 14,
     "metadata": {},
     "output_type": "execute_result"
    }
   ],
   "source": [
    "padTo(np.array([1,2,3]),6,kind='LEFT')"
   ]
  },
  {
   "cell_type": "code",
   "execution_count": 15,
   "metadata": {},
   "outputs": [
    {
     "data": {
      "image/png": "[encoded data removed]",
      "text/plain": [
       "<matplotlib.figure.Figure at 0x7f83e8b41190>"
      ]
     },
     "metadata": {},
     "output_type": "display_data"
    }
   ],
   "source": [
    "_,x = wavfile.read(bin_mapping.keys()[0])\n",
    "plt.subplot(221)\n",
    "plt.plot(x)\n",
    "plt.xlim(0,SMP_RATE*bin_size_x[1])\n",
    "plt.subplot(222)\n",
    "plt.plot(padTo(x,SMP_RATE*bin_size_x[1],kind='RIGHT'))\n",
    "plt.subplot(223)\n",
    "plt.plot(padTo(x,SMP_RATE*bin_size_x[1],kind='LEFT'))\n",
    "plt.subplot(224)\n",
    "plt.plot(padTo(x,SMP_RATE*bin_size_x[1]))\n",
    "plt.show()"
   ]
  },
  {
   "cell_type": "markdown",
   "metadata": {},
   "source": [
    "# Batch Generator\n",
    "\n",
    "convolution expects data of shape (batchsize,height,width,inchannel)\n",
    "\n",
    "Data should be of shape (batchsize,height=1,time_length (this is width),inchannel=1)"
   ]
  },
  {
   "cell_type": "code",
   "execution_count": 16,
   "metadata": {
    "collapsed": true
   },
   "outputs": [],
   "source": [
    "class Batch(object):\n",
    "    def __init__(self,mapping,bin_max,batch_size=1):\n",
    "        self.mapping = mapping\n",
    "        self.bin_max = bin_max\n",
    "        self.batch_size = batch_size\n",
    "        self.seq_size = self.bin_max*SMP_RATE\n",
    "        self.shape = (self.batch_size,1,self.seq_size,1)\n",
    "        self.x_list = mapping.keys()\n",
    "        self.size = len(self.x_list) #data size\n",
    "        self.cursors = [(self.size//self.batch_size)*i for i in range(self.batch_size)]\n",
    "        \n",
    "    def getBatch(self):\n",
    "        #get the file names\n",
    "        x_path = [self.x_list[c] for c in self.cursors]\n",
    "        y_path = [self.mapping[xp] for xp in x_path]\n",
    "        \n",
    "        #Get the x,y files and pad\n",
    "        x = np.empty(shape=(self.batch_size,1,self.seq_size,1))\n",
    "        y = np.empty(shape=(self.batch_size,1,self.seq_size,1))\n",
    "        for i,(xp,yp) in enumerate(zip(x_path,y_path)):\n",
    "            _,x_raw=wavfile.read(xp)\n",
    "            _,y_raw=wavfile.read(yp)\n",
    "            x_pad = padTo(x_raw,self.bin_max*SMP_RATE)\n",
    "            y_pad = padTo(y_raw,self.bin_max*SMP_RATE)\n",
    "            x[i,0,:,0]=x_pad\n",
    "            y[i,0,:,0]=y_pad\n",
    "            \n",
    "        #update cursor positions\n",
    "        self.cursors = [(c+1)%self.size for c in self.cursors]\n",
    "        return (x,y)"
   ]
  },
  {
   "cell_type": "code",
   "execution_count": 17,
   "metadata": {
    "collapsed": true
   },
   "outputs": [],
   "source": [
    "b = Batch(mapping=bin_mapping,bin_max=bin_size_x[1],batch_size=3)"
   ]
  },
  {
   "cell_type": "code",
   "execution_count": 18,
   "metadata": {},
   "outputs": [
    {
     "data": {
      "text/plain": [
       "[<matplotlib.lines.Line2D at 0x7f839e835750>]"
      ]
     },
     "execution_count": 18,
     "metadata": {},
     "output_type": "execute_result"
    },
    {
     "data": {
      "image/png": "[encoded data removed]",
      "text/plain": [
       "<matplotlib.figure.Figure at 0x7f83a113dd90>"
      ]
     },
     "metadata": {},
     "output_type": "display_data"
    }
   ],
   "source": [
    "tempx,tempy = b.getBatch()\n",
    "plt.subplot(211)\n",
    "plt.plot(tempx[2,0,:,0])\n",
    "plt.subplot(212)\n",
    "plt.plot(tempy[2,0,:,0])"
   ]
  },
  {
   "cell_type": "code",
   "execution_count": 19,
   "metadata": {},
   "outputs": [
    {
     "name": "stdout",
     "output_type": "stream",
     "text": [
      "(3, 1, 48000, 1)\n",
      "(3, 1, 48000, 1)\n"
     ]
    }
   ],
   "source": [
    "print tempx.shape\n",
    "print tempy.shape"
   ]
  },
  {
   "cell_type": "markdown",
   "metadata": {},
   "source": [
    "# PReLU"
   ]
  },
  {
   "cell_type": "code",
   "execution_count": 20,
   "metadata": {
    "collapsed": true
   },
   "outputs": [],
   "source": [
    "def prelu(x,name='prelu'):\n",
    "    in_shape = x.get_shape().as_list()\n",
    "    with tf.variable_scope(name):\n",
    "        alpha = tf.get_variable('alpha',in_shape[-1],\n",
    "                               initializer=tf.constant_initializer(0.),\n",
    "                               dtype=tf.float32)\n",
    "        pos = tf.nn.relu(x)\n",
    "        neg = alpha * (x-tf.abs(x))*.5\n",
    "        \n",
    "        return pos + neg\n",
    "    \n",
    "# def PReLU(x,alpha,beta):\n",
    "#     return alpha*tf.maximum(0,x)"
   ]
  },
  {
   "cell_type": "markdown",
   "metadata": {},
   "source": [
    "# 1D Convolutions on 4D inputs using 2D convolution function"
   ]
  },
  {
   "cell_type": "code",
   "execution_count": 21,
   "metadata": {
    "collapsed": true
   },
   "outputs": [],
   "source": [
    "b = Batch(mapping=bin_mapping,bin_max=bin_size_x[1],batch_size=3)"
   ]
  },
  {
   "cell_type": "code",
   "execution_count": 64,
   "metadata": {},
   "outputs": [],
   "source": [
    "g = tf.Graph()\n",
    "with g.as_default():\n",
    "    #try None shapes\n",
    "    x = tf.placeholder(tf.float32,shape=b.shape)\n",
    "    y = tf.placeholder(tf.float32,shape=b.shape)\n",
    "    \n",
    "    #create variables\n",
    "    with tf.variable_scope('in'):\n",
    "        # Shape (height,width,inchannels,out_channels)\n",
    "        conv1=tf.get_variable('conv1',shape=[1,31,1,1],initializer=tf.truncated_normal_initializer(0,.1))\n",
    "        conv2=tf.get_variable('conv2',shape=[1,31,1,16],initializer=tf.truncated_normal_initializer(0,.1))\n",
    "        conv3=tf.get_variable('conv3',shape=[1,31,16,32],initializer=tf.truncated_normal_initializer(0,.1))\n",
    "        conv4=tf.get_variable('conv4',shape=[1,31,32,32],initializer=tf.truncated_normal_initializer(0,.1))\n",
    "        conv5=tf.get_variable('conv5',shape=[1,31,32,64],initializer=tf.truncated_normal_initializer(0,.1))\n",
    "        conv6=tf.get_variable('conv6',shape=[1,31,64,64],initializer=tf.truncated_normal_initializer(0,.1))\n",
    "        conv7=tf.get_variable('conv7',shape=[1,31,64,128],initializer=tf.truncated_normal_initializer(0,.1))\n",
    "#         conv8=tf.get_variable('conv8',shape=[1,31,128,128],initializer=tf.truncated_normal_initializer(0,.1))\n",
    "#         conv9=tf.get_variable('conv9',shape=[1,31,128,256],initializer=tf.truncated_normal_initializer(0,.1))\n",
    "#         conv10=tf.get_variable('conv10',shape=[1,31,256,256],initializer=tf.truncated_normal_initializer(0,.1))\n",
    "\n",
    "        b1 = tf.get_variable('b1',shape=1,initializer=tf.constant_initializer(0.1))\n",
    "        b2 = tf.get_variable('b2',shape=16,initializer=tf.constant_initializer(0.1))\n",
    "        b3 = tf.get_variable('b3',shape=32,initializer=tf.constant_initializer(0.1))\n",
    "        b4 = tf.get_variable('b4',shape=32,initializer=tf.constant_initializer(0.1))\n",
    "        b5 = tf.get_variable('b5',shape=64,initializer=tf.constant_initializer(0.1))\n",
    "        b6 = tf.get_variable('b6',shape=64,initializer=tf.constant_initializer(0.1))\n",
    "        b7 = tf.get_variable('b7',shape=128,initializer=tf.constant_initializer(0.1))\n",
    "\n",
    "        \n",
    "    #down convolutions operations\n",
    "    with tf.variable_scope('l1'):\n",
    "        l1=prelu(tf.nn.conv2d(x,conv1,strides=[1,1,2,1],padding='SAME')+b1)\n",
    "    with tf.variable_scope('l2'):\n",
    "        l2=prelu(tf.nn.conv2d(l1,conv2,strides=[1,1,2,1],padding='SAME')+b2)\n",
    "    with tf.variable_scope('l3'):\n",
    "        l3=prelu(tf.nn.conv2d(l2,conv3,strides=[1,1,2,1],padding='SAME')+b3)\n",
    "    with tf.variable_scope('l4'):\n",
    "        l4=prelu(tf.nn.conv2d(l3,conv4,strides=[1,1,2,1],padding='SAME')+b4)\n",
    "    with tf.variable_scope('l5'):\n",
    "        l5=prelu(tf.nn.conv2d(l4,conv5,strides=[1,1,2,1],padding='SAME')+b5)\n",
    "    with tf.variable_scope('l6'):\n",
    "        l6=prelu(tf.nn.conv2d(l5,conv6,strides=[1,1,2,1],padding='SAME')+b6)\n",
    "    with tf.variable_scope('l7'):\n",
    "        l7=prelu(tf.nn.conv2d(l6,conv7,strides=[1,1,2,1],padding='SAME')+b7)\n",
    "#     with tf.variable_scope('l8'):\n",
    "#         l8=prelu(tf.nn.conv2d(l7,conv8,strides=[1,1,2,1],padding='SAME'))\n",
    "#     with tf.variable_scope('l9'):\n",
    "#         l9=prelu(tf.nn.conv2d(l8,conv9,strides=[1,1,2,1],padding='SAME'))\n",
    "#     with tf.variable_scope('l10'):\n",
    "#         l10=prelu(tf.nn.conv2d(l9,conv10,strides=[1,1,2,1],padding='SAME'))\n",
    "        \n",
    "    last_shape = l7.get_shape()\n",
    "    es=int(last_shape[2]) #length of encoding dimension\n",
    "    \n",
    "    # Transpose Convolution\n",
    "    with tf.variable_scope('out'):\n",
    "        # Shape (height,width,out_channels,input channels)\n",
    "#         dconv10 = tf.get_variable('dconv10',shape=[1,31,256,256],initializer=tf.truncated_normal_initializer(0,.1))\n",
    "#         dconv9 = tf.get_variable('dconv9',shape=[1,31,128,256],initializer=tf.truncated_normal_initializer(0,.1))\n",
    "#         dconv8 = tf.get_variable('dconv8',shape=[1,31,128,128],initializer=tf.truncated_normal_initializer(0,.1))\n",
    "        dconv7 = tf.get_variable('dconv7',shape=[1,31,64,128],initializer=tf.truncated_normal_initializer(0,.1))\n",
    "        dconv6 = tf.get_variable('dconv6',shape=[1,31,64,64],initializer=tf.truncated_normal_initializer(0,.1))\n",
    "        dconv5 = tf.get_variable('dconv5',shape=[1,31,32,64],initializer=tf.truncated_normal_initializer(0,.1))\n",
    "        dconv4 = tf.get_variable('dconv4',shape=[1,31,32,32],initializer=tf.truncated_normal_initializer(0,.1))\n",
    "        dconv3 = tf.get_variable('dconv3',shape=[1,31,16,32],initializer=tf.truncated_normal_initializer(0,.1))\n",
    "        dconv2 = tf.get_variable('dconv2',shape=[1,31,1,16],initializer=tf.truncated_normal_initializer(0,.1))\n",
    "        dconv1 = tf.get_variable('dconv1',shape=[1,31,1,1],initializer=tf.truncated_normal_initializer(0,.1))\n",
    "        \n",
    "        db7 = tf.get_variable('b7',shape=64,initializer=tf.constant_initializer(0.1))\n",
    "        db6 = tf.get_variable('b6',shape=64,initializer=tf.constant_initializer(0.1))\n",
    "        db5 = tf.get_variable('b5',shape=32,initializer=tf.constant_initializer(0.1))\n",
    "        db4 = tf.get_variable('b4',shape=32,initializer=tf.constant_initializer(0.1))\n",
    "        db3 = tf.get_variable('b3',shape=16,initializer=tf.constant_initializer(0.1))\n",
    "        db2 = tf.get_variable('b2',shape=1,initializer=tf.constant_initializer(0.1))\n",
    "        db1 = tf.get_variable('b1',shape=1,initializer=tf.constant_initializer(0.1))\n",
    "        \n",
    "\n",
    "#         with tf.variable_scope('dl10'):\n",
    "#             dl10 = prelu(tf.nn.conv2d_transpose(l10,dconv10,output_shape=[b.batch_size,1,2*es,256],strides=[1,1,2,1]))\n",
    "#         with tf.variable_scope('dl9'):\n",
    "#             dl9 = prelu(tf.nn.conv2d_transpose(dl10,dconv9,output_shape=[b.batch_size,1,(2**2)*es,128],strides=[1,1,2,1]))\n",
    "#         with tf.variable_scope('dl8'):\n",
    "#             dl8 = prelu(tf.nn.conv2d_transpose(dl9,dconv8,output_shape=[b.batch_size,1,(2**3)*es,128],strides=[1,1,2,1]))\n",
    "        with tf.variable_scope('dl7'):\n",
    "            dl7 = prelu(tf.nn.conv2d_transpose(l7,dconv7,output_shape=[b.batch_size,1,(2**1)*es,64],strides=[1,1,2,1])+db7)+l6\n",
    "        with tf.variable_scope('dl6'):\n",
    "            dl6 = prelu(tf.nn.conv2d_transpose(dl7,dconv6,output_shape=[b.batch_size,1,(2**2)*es,64],strides=[1,1,2,1])+db6)+l5\n",
    "        with tf.variable_scope('dl5'):\n",
    "            dl5 = prelu(tf.nn.conv2d_transpose(dl6,dconv5,output_shape=[b.batch_size,1,(2**3)*es,32],strides=[1,1,2,1])+db5)+l4\n",
    "        with tf.variable_scope('dl4'):\n",
    "            dl4 = prelu(tf.nn.conv2d_transpose(dl5,dconv4,output_shape=[b.batch_size,1,(2**4)*es,32],strides=[1,1,2,1])+db4)+l3\n",
    "        with tf.variable_scope('dl3'):\n",
    "            dl3 = prelu(tf.nn.conv2d_transpose(dl4,dconv3,output_shape=[b.batch_size,1,(2**5)*es,16],strides=[1,1,2,1])+db3)+l2\n",
    "        with tf.variable_scope('dl2'):\n",
    "            dl2 = prelu(tf.nn.conv2d_transpose(dl3,dconv2,output_shape=[b.batch_size,1,(2**6)*es,1],strides=[1,1,2,1])+db2)+l1\n",
    "        with tf.variable_scope('dl1'):\n",
    "            dl1 = prelu(tf.nn.conv2d_transpose(dl2,dconv1,output_shape=[b.batch_size,1,(2**7)*es,1],strides=[1,1,2,1])+db1)+x\n",
    "    \n",
    "    # Training\n",
    "    loss = tf.reduce_mean(tf.square(dl1-y))\n",
    "    \n",
    "    opt = tf.train.AdamOptimizer(learning_rate=.0002).minimize(loss)\n",
    "    #opt = tf.train.RMSPropOptimizer(learning_rate = 0.0002)\n",
    "    \n",
    "\n",
    "    init = tf.global_variables_initializer()\n",
    "    \n",
    "    saver = tf.train.Saver()"
   ]
  },
  {
   "cell_type": "code",
   "execution_count": 65,
   "metadata": {
    "collapsed": true
   },
   "outputs": [],
   "source": [
    "losses = []\n",
    "sess = tf.Session(graph=g)\n",
    "sess.run(init)"
   ]
  },
  {
   "cell_type": "code",
   "execution_count": null,
   "metadata": {},
   "outputs": [
    {
     "name": "stderr",
     "output_type": "stream",
     "text": [
      "  0%|          | 1584/1050000 [00:39<7:14:49, 40.19it/s]"
     ]
    }
   ],
   "source": [
    "num_steps = 5000*30*7\n",
    "save_step = 5000*30\n",
    "for i in tqdm(xrange(num_steps)):\n",
    "    x_data,y_data = b.getBatch()\n",
    "    fd = {x:x_data,y:y_data}\n",
    "    _,l = sess.run([opt,loss],feed_dict=fd)\n",
    "    losses.append(l)\n",
    "    if i % save_step == 0:\n",
    "        save_path = saver.save(sess, \"model.ckpt\")"
   ]
  },
  {
   "cell_type": "code",
   "execution_count": 58,
   "metadata": {
    "collapsed": true
   },
   "outputs": [],
   "source": [
    "result = sess.run(dl1,feed_dict=fd)"
   ]
  },
  {
   "cell_type": "code",
   "execution_count": 59,
   "metadata": {},
   "outputs": [
    {
     "data": {
      "text/plain": [
       "[<matplotlib.lines.Line2D at 0x7f8324086150>]"
      ]
     },
     "execution_count": 59,
     "metadata": {},
     "output_type": "execute_result"
    },
    {
     "data": {
      "image/png": "[encoded data removed]",
      "text/plain": [
       "<matplotlib.figure.Figure at 0x7f832cc95ed0>"
      ]
     },
     "metadata": {},
     "output_type": "display_data"
    }
   ],
   "source": [
    "skip_plot=10\n",
    "plt.plot(losses[skip_plot:])"
   ]
  },
  {
   "cell_type": "code",
   "execution_count": 60,
   "metadata": {},
   "outputs": [
    {
     "data": {
      "text/plain": [
       "[<matplotlib.lines.Line2D at 0x7f8324477090>]"
      ]
     },
     "execution_count": 60,
     "metadata": {},
     "output_type": "execute_result"
    },
    {
     "data": {
      "image/png": "[encoded data removed]",
      "text/plain": [
       "<matplotlib.figure.Figure at 0x7f832408a9d0>"
      ]
     },
     "metadata": {},
     "output_type": "display_data"
    }
   ],
   "source": [
    "plt.subplot(221)\n",
    "plt.plot(result[0,0,:,0],color='green')\n",
    "plt.subplot(222)\n",
    "plt.plot(x_data[0,0,:,0],color='black')\n",
    "plt.subplot(223)\n",
    "plt.plot(y_data[0,0,:,0],color='blue')"
   ]
  },
  {
   "cell_type": "markdown",
   "metadata": {},
   "source": [
    "# Random"
   ]
  },
  {
   "cell_type": "markdown",
   "metadata": {},
   "source": [
    "# Get variables on graph"
   ]
  },
  {
   "cell_type": "code",
   "execution_count": 278,
   "metadata": {},
   "outputs": [
    {
     "name": "stdout",
     "output_type": "stream",
     "text": [
      "in/conv1:0\n",
      "in/conv2:0\n",
      "in/conv3:0\n",
      "in/conv4:0\n",
      "in/conv5:0\n",
      "in/conv6:0\n",
      "in/conv7:0\n",
      "in/conv8:0\n",
      "in/conv9:0\n",
      "in/conv10:0\n",
      "l1/prelu/alpha:0\n",
      "l2/prelu/alpha:0\n",
      "l3/prelu/alpha:0\n",
      "l4/prelu/alpha:0\n",
      "l5/prelu/alpha:0\n",
      "l6/prelu/alpha:0\n",
      "l7/prelu/alpha:0\n",
      "out/dconv7:0\n",
      "out/dconv6:0\n",
      "out/dconv5:0\n",
      "out/dconv4:0\n",
      "out/dconv3:0\n",
      "out/dconv2:0\n",
      "out/dconv1:0\n",
      "out/dl7/prelu/alpha:0\n",
      "out/dl6/prelu/alpha:0\n",
      "out/dl5/prelu/alpha:0\n",
      "out/dl4/prelu/alpha:0\n",
      "out/dl3/prelu/alpha:0\n",
      "out/dl2/prelu/alpha:0\n",
      "out/dl1/prelu/alpha:0\n"
     ]
    }
   ],
   "source": [
    "for i in g.get_collection('trainable_variables'):\n",
    "    print i.name"
   ]
  },
  {
   "cell_type": "code",
   "execution_count": null,
   "metadata": {
    "collapsed": true
   },
   "outputs": [],
   "source": []
  }
 ],
 "metadata": {
  "kernelspec": {
   "display_name": "Python 2",
   "language": "python",
   "name": "python2"
  },
  "language_info": {
   "codemirror_mode": {
    "name": "ipython",
    "version": 2
   },
   "file_extension": ".py",
   "mimetype": "text/x-python",
   "name": "python",
   "nbconvert_exporter": "python",
   "pygments_lexer": "ipython2",
   "version": "2.7.13"
  }
 },
 "nbformat": 4,
 "nbformat_minor": 2
}
