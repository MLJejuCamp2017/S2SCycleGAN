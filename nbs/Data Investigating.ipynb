{
 "cells": [
  {
   "cell_type": "code",
   "execution_count": 1,
   "metadata": {},
   "outputs": [
    {
     "name": "stderr",
     "output_type": "stream",
     "text": [
      "/Users/tmulc/anaconda2/envs/tensorflow/lib/python2.7/site-packages/matplotlib/font_manager.py:273: UserWarning: Matplotlib is building the font cache using fc-list. This may take a moment.\n",
      "  warnings.warn('Matplotlib is building the font cache using fc-list. This may take a moment.')\n"
     ]
    }
   ],
   "source": [
    "import tensorflow as tf\n",
    "#import wave\n",
    "import glob\n",
    "import scipy.io.wavfile as wavfile\n",
    "import numpy as np\n",
    "from matplotlib import pyplot as plt\n",
    "%matplotlib inline"
   ]
  },
  {
   "cell_type": "code",
   "execution_count": 2,
   "metadata": {
    "collapsed": true
   },
   "outputs": [],
   "source": [
    "def getWaveName(wavepath):\n",
    "    return wavepath.split('/')[-1]\n",
    "\n",
    "def findWave(wavefile,path):\n",
    "    r = glob.glob(path+wavefile)\n",
    "    return r[0]"
   ]
  },
  {
   "cell_type": "code",
   "execution_count": 7,
   "metadata": {
    "collapsed": true
   },
   "outputs": [],
   "source": [
    "fpath = '../data/female_us/'\n",
    "mpath = '../data/male_us/'"
   ]
  },
  {
   "cell_type": "code",
   "execution_count": 8,
   "metadata": {},
   "outputs": [],
   "source": [
    "#male\n",
    "result = []\n",
    "for filename in glob.glob(mpath+'*.wav'):\n",
    "    fm, wav_data = wavfile.read(filename)\n",
    "    result.append(wav_data.shape[0]/(1.0*fm))\n",
    "resultm = np.array(result)\n",
    "\n",
    "#female\n",
    "result = []\n",
    "for filename in glob.glob(fpath+'*.wav'):\n",
    "    fm, wav_data = wavfile.read(filename)\n",
    "    #fm, wav_data = wave.Wave_read(i)\n",
    "    result.append(wav_data.shape[0]/(1.0*fm))\n",
    "resultf = np.array(result)"
   ]
  },
  {
   "cell_type": "code",
   "execution_count": 13,
   "metadata": {},
   "outputs": [
    {
     "data": {
      "image/png": "[encoded data removed]",
      "text/plain": [
       "<matplotlib.figure.Figure at 0x11841e550>"
      ]
     },
     "metadata": {},
     "output_type": "display_data"
    }
   ],
   "source": [
    "plt.subplot(211)\n",
    "plt.hist(resultm,bins=50)\n",
    "plt.subplot(212)\n",
    "plt.hist(resultf,bins=50)\n",
    "plt.show()"
   ]
  },
  {
   "cell_type": "markdown",
   "metadata": {},
   "source": [
    "# Hacky parallel dataset"
   ]
  },
  {
   "cell_type": "code",
   "execution_count": 14,
   "metadata": {
    "collapsed": true
   },
   "outputs": [],
   "source": [
    "# map male to female\n",
    "m2f = dict()\n",
    "for i in glob.glob(mpath+'/*.wav'):\n",
    "    m2f[i]=findWave(getWaveName(i),fpath)"
   ]
  },
  {
   "cell_type": "code",
   "execution_count": null,
   "metadata": {},
   "outputs": [],
   "source": []
  },
  {
   "cell_type": "code",
   "execution_count": null,
   "metadata": {
    "collapsed": true
   },
   "outputs": [],
   "source": []
  }
 ],
 "metadata": {
  "kernelspec": {
   "display_name": "Python [conda env:tensorflow]",
   "language": "python",
   "name": "conda-env-tensorflow-py"
  },
  "language_info": {
   "codemirror_mode": {
    "name": "ipython",
    "version": 2
   },
   "file_extension": ".py",
   "mimetype": "text/x-python",
   "name": "python",
   "nbconvert_exporter": "python",
   "pygments_lexer": "ipython2",
   "version": "2.7.12"
  }
 },
 "nbformat": 4,
 "nbformat_minor": 2
}
