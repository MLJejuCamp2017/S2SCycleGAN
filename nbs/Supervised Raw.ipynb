{
 "cells": [
  {
   "cell_type": "code",
   "execution_count": 56,
   "metadata": {
    "collapsed": true
   },
   "outputs": [],
   "source": [
    "import tensorflow as tf\n",
    "#import wave\n",
    "import glob\n",
    "import scipy.io.wavfile as wavfile\n",
    "import numpy as np\n",
    "from matplotlib import pyplot as plt\n",
    "from tqdm import tqdm\n",
    "%matplotlib inline"
   ]
  },
  {
   "cell_type": "code",
   "execution_count": 57,
   "metadata": {
    "collapsed": true
   },
   "outputs": [],
   "source": [
    "global SMP_RATE\n",
    "SMP_RATE = 16000"
   ]
  },
  {
   "cell_type": "code",
   "execution_count": 58,
   "metadata": {
    "collapsed": true
   },
   "outputs": [],
   "source": [
    "def getWaveName(wavepath):\n",
    "    return wavepath.split('/')[-1]\n",
    "\n",
    "def findWave(wavefile,path):\n",
    "    r = glob.glob(path+wavefile)\n",
    "    return r[0]"
   ]
  },
  {
   "cell_type": "code",
   "execution_count": 59,
   "metadata": {
    "collapsed": true
   },
   "outputs": [],
   "source": [
    "fpath = '../../cmu_artic/female_us_slt/' #desktop\n",
    "mpath = '../../cmu_artic/male_us_bdl/' #desktop\n",
    "# fpath = '../data/female_us/'\n",
    "# mpath = '../data/male_us/'"
   ]
  },
  {
   "cell_type": "markdown",
   "metadata": {},
   "source": [
    "# Hacky parallel dataset"
   ]
  },
  {
   "cell_type": "code",
   "execution_count": 60,
   "metadata": {
    "collapsed": true
   },
   "outputs": [],
   "source": [
    "# map male to female\n",
    "m2f = dict()\n",
    "for i in glob.glob(mpath+'/*.wav'):\n",
    "    m2f[i]=findWave(getWaveName(i),fpath)"
   ]
  },
  {
   "cell_type": "code",
   "execution_count": 61,
   "metadata": {},
   "outputs": [
    {
     "data": {
      "text/plain": [
       "'../../cmu_artic/male_us_bdl/arctic_b0515.wav'"
      ]
     },
     "execution_count": 61,
     "metadata": {},
     "output_type": "execute_result"
    }
   ],
   "source": [
    "m2f.keys()[0]"
   ]
  },
  {
   "cell_type": "markdown",
   "metadata": {},
   "source": [
    "# Bin before hand"
   ]
  },
  {
   "cell_type": "code",
   "execution_count": 7,
   "metadata": {
    "collapsed": true
   },
   "outputs": [],
   "source": [
    "bin_size_x = (2,3)\n",
    "bin_size_y = (2,3)"
   ]
  },
  {
   "cell_type": "code",
   "execution_count": 8,
   "metadata": {
    "collapsed": true
   },
   "outputs": [],
   "source": [
    "bin_mapping = {}\n",
    "for filename in glob.glob(mpath+'*.wav'):\n",
    "    fm, wav_data = wavfile.read(filename)\n",
    "    size = wav_data.shape[0]/(1.0*fm)\n",
    "    if size < bin_size_x[1] and size > bin_size_x[0]:\n",
    "        fm2, wav_data2 = wavfile.read(m2f[filename])\n",
    "        size2 = wav_data2.shape[0]/(1.0*fm2)\n",
    "        if size2 < bin_size_x[1] and size2 > bin_size_x[0]:\n",
    "            bin_mapping[filename] = m2f[filename]"
   ]
  },
  {
   "cell_type": "code",
   "execution_count": 9,
   "metadata": {},
   "outputs": [
    {
     "data": {
      "text/plain": [
       "348"
      ]
     },
     "execution_count": 9,
     "metadata": {},
     "output_type": "execute_result"
    }
   ],
   "source": [
    "len(bin_mapping)"
   ]
  },
  {
   "cell_type": "markdown",
   "metadata": {},
   "source": [
    "# Sec to Samples"
   ]
  },
  {
   "cell_type": "code",
   "execution_count": 10,
   "metadata": {
    "collapsed": true
   },
   "outputs": [],
   "source": [
    "def sec2samp(sec,smp_rate):\n",
    "    return int(sec*smp_rate)"
   ]
  },
  {
   "cell_type": "markdown",
   "metadata": {},
   "source": [
    "# Padding"
   ]
  },
  {
   "cell_type": "code",
   "execution_count": 11,
   "metadata": {
    "collapsed": true
   },
   "outputs": [],
   "source": [
    "def padTo(x,size,kind='SYM'):\n",
    "    \"\"\"\n",
    "    Expects 1D array\n",
    "    \"\"\"\n",
    "    assert kind in ['LEFT','RIGHT','SYM']\n",
    "    if kind == 'LEFT':\n",
    "        pad = np.zeros(size-len(x),dtype=x.dtype)\n",
    "        r=np.concatenate((pad,x),axis=0)\n",
    "    elif kind == 'RIGHT':\n",
    "        pad = np.zeros(size-len(x),dtype=x.dtype)\n",
    "        r=np.concatenate((x,pad),axis=0)\n",
    "    elif kind == 'SYM':\n",
    "        padl = np.zeros((size-len(x))/2,dtype=x.dtype)\n",
    "        padr = np.zeros((size-len(x))/2+(size-len(x))%2,dtype=x.dtype)\n",
    "        r = np.concatenate((padl,x,padr),axis=0)\n",
    "    return r"
   ]
  },
  {
   "cell_type": "markdown",
   "metadata": {},
   "source": [
    "# Batch Generator\n",
    "\n",
    "convolution expects data of shape (batchsize,height,width,inchannel)\n",
    "\n",
    "Data should be of shape (batchsize,height=1,time_length (this is width),inchannel=1)"
   ]
  },
  {
   "cell_type": "code",
   "execution_count": 12,
   "metadata": {
    "collapsed": true
   },
   "outputs": [],
   "source": [
    "class Batch(object):\n",
    "    def __init__(self,mapping,bin_max,batch_size=1):\n",
    "        self.mapping = mapping\n",
    "        self.bin_max = bin_max\n",
    "        self.batch_size = batch_size\n",
    "        self.seq_size = self.bin_max*SMP_RATE\n",
    "        self.shape = (self.batch_size,1,self.seq_size,1)\n",
    "        self.x_list = mapping.keys()\n",
    "        self.size = len(self.x_list) #data size\n",
    "        self.cursors = [(self.size//self.batch_size)*i for i in range(self.batch_size)]\n",
    "        \n",
    "    def getBatch(self):\n",
    "        #get the file names\n",
    "        x_path = [self.x_list[c] for c in self.cursors]\n",
    "        y_path = [self.mapping[xp] for xp in x_path]\n",
    "        \n",
    "        #Get the x,y files and pad\n",
    "        x = np.empty(shape=(self.batch_size,1,self.seq_size,1))\n",
    "        y = np.empty(shape=(self.batch_size,1,self.seq_size,1))\n",
    "        for i,(xp,yp) in enumerate(zip(x_path,y_path)):\n",
    "            _,x_raw=wavfile.read(xp)\n",
    "            _,y_raw=wavfile.read(yp)\n",
    "            x_pad = padTo(x_raw,self.bin_max*SMP_RATE)\n",
    "            y_pad = padTo(y_raw,self.bin_max*SMP_RATE)\n",
    "            x[i,0,:,0]=x_pad\n",
    "            y[i,0,:,0]=y_pad\n",
    "            \n",
    "        #update cursor positions\n",
    "        self.cursors = [(c+1)%self.size for c in self.cursors]\n",
    "        return (x,y)"
   ]
  },
  {
   "cell_type": "code",
   "execution_count": 13,
   "metadata": {
    "collapsed": true
   },
   "outputs": [],
   "source": [
    "b = Batch(mapping=bin_mapping,bin_max=bin_size_x[1],batch_size=3)"
   ]
  },
  {
   "cell_type": "markdown",
   "metadata": {},
   "source": [
    "# PReLU"
   ]
  },
  {
   "cell_type": "code",
   "execution_count": 14,
   "metadata": {
    "collapsed": true
   },
   "outputs": [],
   "source": [
    "def prelu(x,name='prelu'):\n",
    "    in_shape = x.get_shape().as_list()\n",
    "    with tf.variable_scope(name):\n",
    "        alpha = tf.get_variable('alpha',in_shape[-1],\n",
    "                               initializer=tf.constant_initializer(0.1),\n",
    "                               dtype=tf.float32)\n",
    "        pos = tf.nn.relu(x)\n",
    "        neg = alpha * (x-tf.abs(x))*.5\n",
    "        \n",
    "        return pos + neg"
   ]
  },
  {
   "cell_type": "markdown",
   "metadata": {},
   "source": [
    "# Batch Norm"
   ]
  },
  {
   "cell_type": "code",
   "execution_count": 15,
   "metadata": {
    "collapsed": true
   },
   "outputs": [],
   "source": [
    "def batch_norm(x,ri=[0,1,2],eps=.0001):\n",
    "    xshp=x.get_shape().as_list()\n",
    "    with tf.variable_scope('bn'):\n",
    "        gamma = tf.get_variable('gamma',[xshp[-1]],initializer=tf.truncated_normal_initializer(0,.1))\n",
    "        beta = tf.get_variable('beta',[xshp[-1]],initializer=tf.constant_initializer(1.))\n",
    "\n",
    "        mu = tf.reduce_mean(x,ri,keep_dims=True)\n",
    "        sigma = tf.reduce_mean(tf.square(x-mu),ri,keep_dims=True)\n",
    "        x_hat = (x-mu)/(tf.sqrt(sigma+eps))\n",
    "        y = gamma*x_hat+beta\n",
    "    return y"
   ]
  },
  {
   "cell_type": "markdown",
   "metadata": {},
   "source": [
    "# Set up Batch"
   ]
  },
  {
   "cell_type": "code",
   "execution_count": 16,
   "metadata": {
    "collapsed": true
   },
   "outputs": [],
   "source": [
    "b = Batch(mapping=bin_mapping,bin_max=bin_size_x[1],batch_size=32)"
   ]
  },
  {
   "cell_type": "markdown",
   "metadata": {},
   "source": [
    "# Build Graph and give inputs"
   ]
  },
  {
   "cell_type": "code",
   "execution_count": 45,
   "metadata": {
    "collapsed": true
   },
   "outputs": [],
   "source": [
    "g = tf.Graph()\n",
    "with g.as_default():\n",
    "    #try None shapes\n",
    "    x = tf.placeholder(tf.float32,shape=b.shape)\n",
    "    y = tf.placeholder(tf.float32,shape=b.shape)"
   ]
  },
  {
   "cell_type": "markdown",
   "metadata": {},
   "source": [
    "# Generator"
   ]
  },
  {
   "cell_type": "code",
   "execution_count": 46,
   "metadata": {
    "collapsed": true
   },
   "outputs": [],
   "source": [
    "def make_z(shape, mean=0., std=1., name='z'):\n",
    "    z = tf.random_normal(shape, mean=mean, stddev=std,\n",
    "                             name=name, dtype=tf.float32)\n",
    "    return z"
   ]
  },
  {
   "cell_type": "code",
   "execution_count": 47,
   "metadata": {
    "collapsed": true
   },
   "outputs": [],
   "source": [
    "with g.as_default():\n",
    "    def Gen(x,reuse=False):\n",
    "        with tf.variable_scope('Generator') as scope:\n",
    "            if reuse:\n",
    "                scope.reuse_variables()\n",
    "            #Down Colnvolutions\n",
    "            #create variables\n",
    "            with tf.variable_scope('in'):\n",
    "                # Shape (height,width,inchannels,out_channels)\n",
    "                #down convolutions operations\n",
    "                with tf.variable_scope('l1'):\n",
    "                    conv1=tf.get_variable('conv1',shape=[1,31,1,1],initializer=tf.truncated_normal_initializer(0,.01))\n",
    "                    b1 = tf.get_variable('b1',shape=1,initializer=tf.constant_initializer(0.01))\n",
    "                    l1=prelu(tf.nn.conv2d(batch_norm(x),conv1,strides=[1,1,2,1],padding='SAME')+b1)\n",
    "                with tf.variable_scope('l2'):\n",
    "                    conv2=tf.get_variable('conv2',shape=[1,31,1,16],initializer=tf.truncated_normal_initializer(0,.01))\n",
    "                    b2 = tf.get_variable('b2',shape=16,initializer=tf.constant_initializer(0.01))\n",
    "                    l2=prelu(tf.nn.conv2d(batch_norm(l1),conv2,strides=[1,1,2,1],padding='SAME')+b2)\n",
    "                with tf.variable_scope('l3'):\n",
    "                    conv3=tf.get_variable('conv3',shape=[1,31,16,32],initializer=tf.truncated_normal_initializer(0,.01))\n",
    "                    b3 = tf.get_variable('b3',shape=32,initializer=tf.constant_initializer(0.01))\n",
    "                    l3=prelu(tf.nn.conv2d(batch_norm(l2),conv3,strides=[1,1,2,1],padding='SAME')+b3)\n",
    "                with tf.variable_scope('l4'):\n",
    "                    conv4=tf.get_variable('conv4',shape=[1,31,32,32],initializer=tf.truncated_normal_initializer(0,.01))\n",
    "                    b4 = tf.get_variable('b4',shape=32,initializer=tf.constant_initializer(0.01))\n",
    "                    l4=prelu(tf.nn.conv2d(batch_norm(l3),conv4,strides=[1,1,2,1],padding='SAME')+b4)\n",
    "                with tf.variable_scope('l5'):\n",
    "                    conv5=tf.get_variable('conv5',shape=[1,31,32,64],initializer=tf.truncated_normal_initializer(0,.01))\n",
    "                    b5 = tf.get_variable('b5',shape=64,initializer=tf.constant_initializer(0.01))\n",
    "                    l5=prelu(tf.nn.conv2d(batch_norm(l4),conv5,strides=[1,1,2,1],padding='SAME')+b5)\n",
    "                with tf.variable_scope('l6'):\n",
    "                    conv6=tf.get_variable('conv6',shape=[1,31,64,64],initializer=tf.truncated_normal_initializer(0,.01))\n",
    "                    b6 = tf.get_variable('b6',shape=64,initializer=tf.constant_initializer(0.01))\n",
    "                    l6=prelu(tf.nn.conv2d(batch_norm(l5),conv6,strides=[1,1,2,1],padding='SAME')+b6)\n",
    "                with tf.variable_scope('l7'):\n",
    "                    conv7=tf.get_variable('conv7',shape=[1,31,64,128],initializer=tf.truncated_normal_initializer(0,.01))\n",
    "                    b7 = tf.get_variable('b7',shape=128,initializer=tf.constant_initializer(0.01))\n",
    "                    l7=prelu(tf.nn.conv2d(batch_norm(l6),conv7,strides=[1,1,2,1],padding='SAME')+b7)\n",
    "\n",
    "\n",
    "            last_shape = l7.get_shape()\n",
    "            es=int(last_shape[2]) #encoding size\n",
    "            \n",
    "            #generate z\n",
    "            z = make_z(shape=last_shape)\n",
    "\n",
    "            # Transpose Convolution\n",
    "            #Create variables\n",
    "            with tf.variable_scope('out'):\n",
    "                # Shape (height,width,out_channels,input channels)\n",
    "                with tf.variable_scope('dl7'):\n",
    "                    dconv7 = tf.get_variable('dconv7',shape=[1,31,64,128],initializer=tf.truncated_normal_initializer(0,.01))\n",
    "                    db7 = tf.get_variable('b7',shape=64,initializer=tf.constant_initializer(0.01))\n",
    "                    dl7 = prelu(tf.nn.conv2d_transpose(batch_norm(l7+z),dconv7,output_shape=[b.batch_size,1,(2**1)*es,64],strides=[1,1,2,1])+db7)\n",
    "                with tf.variable_scope('dl6'):\n",
    "                    dconv6 = tf.get_variable('dconv6',shape=[1,31,64,64],initializer=tf.truncated_normal_initializer(0,.01))\n",
    "                    db6 = tf.get_variable('b6',shape=64,initializer=tf.constant_initializer(0.01))\n",
    "                    dl6 = prelu(tf.nn.conv2d_transpose(batch_norm(dl7),dconv6,output_shape=[b.batch_size,1,(2**2)*es,64],strides=[1,1,2,1])+db6)\n",
    "                with tf.variable_scope('dl5'):\n",
    "                    dconv5 = tf.get_variable('dconv5',shape=[1,31,32,64],initializer=tf.truncated_normal_initializer(0,.01))\n",
    "                    db5 = tf.get_variable('b5',shape=32,initializer=tf.constant_initializer(0.01))\n",
    "                    dl5 = prelu(tf.nn.conv2d_transpose(batch_norm(dl6),dconv5,output_shape=[b.batch_size,1,(2**3)*es,32],strides=[1,1,2,1])+db5)\n",
    "                with tf.variable_scope('dl4'):\n",
    "                    dconv4 = tf.get_variable('dconv4',shape=[1,31,32,32],initializer=tf.truncated_normal_initializer(0,.01))\n",
    "                    db4 = tf.get_variable('b4',shape=32,initializer=tf.constant_initializer(0.01))\n",
    "                    dl4 = prelu(tf.nn.conv2d_transpose(batch_norm(dl5),dconv4,output_shape=[b.batch_size,1,(2**4)*es,32],strides=[1,1,2,1])+db4)\n",
    "                with tf.variable_scope('dl3'):\n",
    "                    dconv3 = tf.get_variable('dconv3',shape=[1,31,16,32],initializer=tf.truncated_normal_initializer(0,.01))\n",
    "                    db3 = tf.get_variable('b3',shape=16,initializer=tf.constant_initializer(0.01))\n",
    "                    dl3 = prelu(tf.nn.conv2d_transpose(batch_norm(dl4),dconv3,output_shape=[b.batch_size,1,(2**5)*es,16],strides=[1,1,2,1])+db3)\n",
    "                with tf.variable_scope('dl2'):\n",
    "                    dconv2 = tf.get_variable('dconv2',shape=[1,31,1,16],initializer=tf.truncated_normal_initializer(0,.01))\n",
    "                    db2 = tf.get_variable('b2',shape=1,initializer=tf.constant_initializer(0.01))\n",
    "                    dl2 = prelu(tf.nn.conv2d_transpose(batch_norm(dl3),dconv2,output_shape=[b.batch_size,1,(2**6)*es,1],strides=[1,1,2,1])+db2)\n",
    "                with tf.variable_scope('dl1'):\n",
    "                    dconv1 = tf.get_variable('dconv1',shape=[1,31,1,1],initializer=tf.truncated_normal_initializer(0,.01))\n",
    "                    db1 = tf.get_variable('b1',shape=1,initializer=tf.constant_initializer(0.01))\n",
    "                    dl1 = tf.nn.conv2d_transpose(batch_norm(dl2),dconv1,output_shape=[b.batch_size,1,(2**7)*es,1],strides=[1,1,2,1])+db1\n",
    "        return dl1\n",
    "    "
   ]
  },
  {
   "cell_type": "code",
   "execution_count": 48,
   "metadata": {
    "collapsed": true
   },
   "outputs": [],
   "source": [
    "with g.as_default():\n",
    "    G_x = Gen(x)"
   ]
  },
  {
   "cell_type": "markdown",
   "metadata": {},
   "source": [
    "# Loss functions and Optimization ops"
   ]
  },
  {
   "cell_type": "code",
   "execution_count": 49,
   "metadata": {
    "collapsed": true
   },
   "outputs": [],
   "source": [
    "with g.as_default():\n",
    "    #optimizer\n",
    "    with tf.device('/gpu:1'):\n",
    "        # original loss function\n",
    "        loss = tf.reduce_mean(tf.square(G_x - y))\n",
    "        optimizer = tf.train.AdamOptimizer(learning_rate=.0002)\n",
    "    \n",
    "        #original optimization\n",
    "        opt = optimizer.minimize(loss)\n",
    "\n",
    "        #initializer\n",
    "        init = tf.global_variables_initializer()\n",
    "\n",
    "        #saver\n",
    "        saver = tf.train.Saver()"
   ]
  },
  {
   "cell_type": "code",
   "execution_count": 50,
   "metadata": {
    "collapsed": true
   },
   "outputs": [],
   "source": [
    "save_path = 'modelckpt/modelGAN.ckpt'"
   ]
  },
  {
   "cell_type": "markdown",
   "metadata": {},
   "source": [
    "# Other"
   ]
  },
  {
   "cell_type": "code",
   "execution_count": 51,
   "metadata": {
    "collapsed": true
   },
   "outputs": [],
   "source": [
    "sess = tf.Session(graph=g,config=tf.ConfigProto(\n",
    "      allow_soft_placement=True, log_device_placement=True))\n",
    "sess.run(init)"
   ]
  },
  {
   "cell_type": "markdown",
   "metadata": {},
   "source": [
    "# Train original (supervised training)"
   ]
  },
  {
   "cell_type": "code",
   "execution_count": 52,
   "metadata": {
    "collapsed": true
   },
   "outputs": [],
   "source": [
    "losses = []"
   ]
  },
  {
   "cell_type": "code",
   "execution_count": null,
   "metadata": {},
   "outputs": [
    {
     "name": "stderr",
     "output_type": "stream",
     "text": [
      " 45%|████▍     | 1340/3000 [11:05<13:47,  2.01it/s]"
     ]
    }
   ],
   "source": [
    "#num_steps = 5000*30*7 #big league training\n",
    "num_steps = 300*10*1\n",
    "save_step = 500*30*6\n",
    "for i in tqdm(xrange(num_steps)):\n",
    "    x_data,y_data = b.getBatch()\n",
    "    fd = {x:x_data,y:y_data}\n",
    "    _,l = sess.run([opt,loss],feed_dict=fd)\n",
    "    losses.append(l)\n",
    "    if i % save_step == 0:\n",
    "        save_path = saver.save(sess, save_path)"
   ]
  },
  {
   "cell_type": "code",
   "execution_count": 71,
   "metadata": {},
   "outputs": [
    {
     "data": {
      "text/plain": [
       "[<matplotlib.lines.Line2D at 0x7f0697f6c150>]"
      ]
     },
     "execution_count": 71,
     "metadata": {},
     "output_type": "execute_result"
    },
    {
     "data": {
      "image/png": "[encoded data removed]",
      "text/plain": [
       "<matplotlib.figure.Figure at 0x7f069731bb50>"
      ]
     },
     "metadata": {},
     "output_type": "display_data"
    }
   ],
   "source": [
    "plt.plot(losses)"
   ]
  },
  {
   "cell_type": "code",
   "execution_count": 106,
   "metadata": {},
   "outputs": [
    {
     "data": {
      "text/plain": [
       "[<matplotlib.lines.Line2D at 0x7f02d86454d0>]"
      ]
     },
     "execution_count": 106,
     "metadata": {},
     "output_type": "execute_result"
    },
    {
     "data": {
      "image/png": "[encoded data removed]",
      "text/plain": [
       "<matplotlib.figure.Figure at 0x7f02b875ec50>"
      ]
     },
     "metadata": {},
     "output_type": "display_data"
    }
   ],
   "source": [
    "plt.plot(losses)"
   ]
  },
  {
   "cell_type": "markdown",
   "metadata": {},
   "source": [
    "# Evaluate Data"
   ]
  },
  {
   "cell_type": "code",
   "execution_count": 63,
   "metadata": {
    "collapsed": true
   },
   "outputs": [],
   "source": [
    "with g.as_default():\n",
    "    gen_audio = Gen(x,reuse=True)"
   ]
  },
  {
   "cell_type": "code",
   "execution_count": 64,
   "metadata": {
    "collapsed": true
   },
   "outputs": [],
   "source": [
    "x_data,y_data = b.getBatch() #uncomment if not training\n",
    "fd = {x:x_data,y:y_data} #uncomment if not training\n",
    "result = sess.run(gen_audio,feed_dict=fd)"
   ]
  },
  {
   "cell_type": "code",
   "execution_count": 65,
   "metadata": {},
   "outputs": [
    {
     "data": {
      "text/plain": [
       "[<matplotlib.lines.Line2D at 0x7f05f0127290>]"
      ]
     },
     "execution_count": 65,
     "metadata": {},
     "output_type": "execute_result"
    },
    {
     "data": {
      "image/png": "[encoded data removed]",
      "text/plain": [
       "<matplotlib.figure.Figure at 0x7f06974a0850>"
      ]
     },
     "metadata": {},
     "output_type": "display_data"
    }
   ],
   "source": [
    "plt.figure(figsize=(15,5))\n",
    "plt.subplot(311)\n",
    "plt.plot(x_data[0,0,:,0],color='black')\n",
    "plt.subplot(312)\n",
    "plt.plot(result[0,0,:,0],color='green')\n",
    "plt.subplot(313)\n",
    "plt.plot(y_data[0,0,:,0],color='blue')"
   ]
  },
  {
   "cell_type": "code",
   "execution_count": 66,
   "metadata": {},
   "outputs": [
    {
     "name": "stdout",
     "output_type": "stream",
     "text": [
      "Generator/in/l1/conv1:0\n",
      "Generator/in/l1/b1:0\n",
      "Generator/in/l1/bn/gamma:0\n",
      "Generator/in/l1/bn/beta:0\n",
      "Generator/in/l1/prelu/alpha:0\n",
      "Generator/in/l2/conv2:0\n",
      "Generator/in/l2/b2:0\n",
      "Generator/in/l2/bn/gamma:0\n",
      "Generator/in/l2/bn/beta:0\n",
      "Generator/in/l2/prelu/alpha:0\n",
      "Generator/in/l3/conv3:0\n",
      "Generator/in/l3/b3:0\n",
      "Generator/in/l3/bn/gamma:0\n",
      "Generator/in/l3/bn/beta:0\n",
      "Generator/in/l3/prelu/alpha:0\n",
      "Generator/in/l4/conv4:0\n",
      "Generator/in/l4/b4:0\n",
      "Generator/in/l4/bn/gamma:0\n",
      "Generator/in/l4/bn/beta:0\n",
      "Generator/in/l4/prelu/alpha:0\n",
      "Generator/in/l5/conv5:0\n",
      "Generator/in/l5/b5:0\n",
      "Generator/in/l5/bn/gamma:0\n",
      "Generator/in/l5/bn/beta:0\n",
      "Generator/in/l5/prelu/alpha:0\n",
      "Generator/in/l6/conv6:0\n",
      "Generator/in/l6/b6:0\n",
      "Generator/in/l6/bn/gamma:0\n",
      "Generator/in/l6/bn/beta:0\n",
      "Generator/in/l6/prelu/alpha:0\n",
      "Generator/in/l7/conv7:0\n",
      "Generator/in/l7/b7:0\n",
      "Generator/in/l7/bn/gamma:0\n",
      "Generator/in/l7/bn/beta:0\n",
      "Generator/in/l7/prelu/alpha:0\n",
      "Generator/out/dl7/dconv7:0\n",
      "Generator/out/dl7/b7:0\n",
      "Generator/out/dl7/prelu/alpha:0\n",
      "Generator/out/dl6/dconv6:0\n",
      "Generator/out/dl6/b6:0\n",
      "Generator/out/dl6/prelu/alpha:0\n",
      "Generator/out/dl5/dconv5:0\n",
      "Generator/out/dl5/b5:0\n",
      "Generator/out/dl5/prelu/alpha:0\n",
      "Generator/out/dl4/dconv4:0\n",
      "Generator/out/dl4/b4:0\n",
      "Generator/out/dl4/prelu/alpha:0\n",
      "Generator/out/dl3/dconv3:0\n",
      "Generator/out/dl3/b3:0\n",
      "Generator/out/dl3/prelu/alpha:0\n",
      "Generator/out/dl2/dconv2:0\n",
      "Generator/out/dl2/b2:0\n",
      "Generator/out/dl2/prelu/alpha:0\n",
      "Generator/out/dl1/dconv1:0\n",
      "Generator/out/dl1/b1:0\n"
     ]
    }
   ],
   "source": [
    "for i in g.get_collection('trainable_variables'):\n",
    "    print i.name"
   ]
  },
  {
   "cell_type": "markdown",
   "metadata": {},
   "source": [
    "# Write to audio file"
   ]
  },
  {
   "cell_type": "code",
   "execution_count": 67,
   "metadata": {
    "collapsed": true
   },
   "outputs": [],
   "source": [
    "#generated\n",
    "f = open('samples/generated_audio1.wav','wr')\n",
    "wavfile.write(f,SMP_RATE,result[0,0,:,0].astype(np.int16))\n",
    "f.close()"
   ]
  },
  {
   "cell_type": "code",
   "execution_count": 44,
   "metadata": {
    "collapsed": true
   },
   "outputs": [],
   "source": [
    "#original\n",
    "f = open('samples/org_audio1.wav','wr')\n",
    "wavfile.write(f,SMP_RATE,x_data[0,0,:,0].astype(np.int16))\n",
    "f.close()"
   ]
  },
  {
   "cell_type": "code",
   "execution_count": 45,
   "metadata": {
    "collapsed": true
   },
   "outputs": [],
   "source": [
    "#target\n",
    "f = open('samples/target_audio1.wav','wr')\n",
    "wavfile.write(f,SMP_RATE,y_data[0,0,:,0].astype(np.int16))\n",
    "f.close()"
   ]
  },
  {
   "cell_type": "code",
   "execution_count": null,
   "metadata": {
    "collapsed": true
   },
   "outputs": [],
   "source": []
  }
 ],
 "metadata": {
  "anaconda-cloud": {},
  "kernelspec": {
   "display_name": "Python 2",
   "language": "python",
   "name": "python2"
  },
  "language_info": {
   "codemirror_mode": {
    "name": "ipython",
    "version": 2
   },
   "file_extension": ".py",
   "mimetype": "text/x-python",
   "name": "python",
   "nbconvert_exporter": "python",
   "pygments_lexer": "ipython2",
   "version": "2.7.13"
  }
 },
 "nbformat": 4,
 "nbformat_minor": 2
}
