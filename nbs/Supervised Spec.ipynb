{
 "cells": [
  {
   "cell_type": "code",
   "execution_count": 1,
   "metadata": {},
   "outputs": [],
   "source": [
    "import tensorflow as tf\n",
    "import glob\n",
    "import scipy.io.wavfile as wavfile\n",
    "import numpy as np\n",
    "from matplotlib import pyplot as plt\n",
    "from tqdm import tqdm\n",
    "from preproc import *\n",
    "%matplotlib inline"
   ]
  },
  {
   "cell_type": "code",
   "execution_count": 2,
   "metadata": {
    "collapsed": true
   },
   "outputs": [],
   "source": [
    "global SMP_RATE\n",
    "SMP_RATE = 16000"
   ]
  },
  {
   "cell_type": "code",
   "execution_count": 3,
   "metadata": {
    "collapsed": true
   },
   "outputs": [],
   "source": [
    "def getWaveName(wavepath):\n",
    "    return wavepath.split('/')[-1]\n",
    "\n",
    "def findWave(wavefile,path):\n",
    "    r = glob.glob(path+wavefile)\n",
    "    return r[0]"
   ]
  },
  {
   "cell_type": "code",
   "execution_count": 4,
   "metadata": {
    "collapsed": true
   },
   "outputs": [],
   "source": [
    "# fpath = '../../cmu_artic/female_us_slt/' #desktop\n",
    "# mpath = '../../cmu_artic/male_us_bdl/' #desktop\n",
    "fpath = '../data/female_us/'\n",
    "mpath = '../data/male_us/'"
   ]
  },
  {
   "cell_type": "markdown",
   "metadata": {},
   "source": [
    "# Hacky parallel dataset"
   ]
  },
  {
   "cell_type": "code",
   "execution_count": 5,
   "metadata": {
    "collapsed": true
   },
   "outputs": [],
   "source": [
    "# map male to female\n",
    "m2f = dict()\n",
    "for i in glob.glob(mpath+'/*.wav'):\n",
    "    m2f[i]=findWave(getWaveName(i),fpath)"
   ]
  },
  {
   "cell_type": "code",
   "execution_count": 6,
   "metadata": {},
   "outputs": [
    {
     "data": {
      "text/plain": [
       "'../data/male_us/arctic_a0058.wav'"
      ]
     },
     "execution_count": 6,
     "metadata": {},
     "output_type": "execute_result"
    }
   ],
   "source": [
    "m2f.keys()[0]"
   ]
  },
  {
   "cell_type": "markdown",
   "metadata": {},
   "source": [
    "# Bin before hand"
   ]
  },
  {
   "cell_type": "code",
   "execution_count": 7,
   "metadata": {
    "collapsed": true
   },
   "outputs": [],
   "source": [
    "bin_size_x = (2,3)\n",
    "bin_size_y = (2,3)"
   ]
  },
  {
   "cell_type": "code",
   "execution_count": 8,
   "metadata": {
    "collapsed": true
   },
   "outputs": [],
   "source": [
    "bin_mapping = {}\n",
    "for filename in glob.glob(mpath+'*.wav'):\n",
    "    fm, wav_data = wavfile.read(filename)\n",
    "    size = wav_data.shape[0]/(1.0*fm)\n",
    "    if size < bin_size_x[1] and size > bin_size_x[0]:\n",
    "        fm2, wav_data2 = wavfile.read(m2f[filename])\n",
    "        size2 = wav_data2.shape[0]/(1.0*fm2)\n",
    "        if size2 < bin_size_x[1] and size2 > bin_size_x[0]:\n",
    "            bin_mapping[filename] = m2f[filename]"
   ]
  },
  {
   "cell_type": "code",
   "execution_count": 9,
   "metadata": {},
   "outputs": [
    {
     "data": {
      "text/plain": [
       "348"
      ]
     },
     "execution_count": 9,
     "metadata": {},
     "output_type": "execute_result"
    }
   ],
   "source": [
    "len(bin_mapping)"
   ]
  },
  {
   "cell_type": "markdown",
   "metadata": {},
   "source": [
    "# Padding"
   ]
  },
  {
   "cell_type": "code",
   "execution_count": 10,
   "metadata": {
    "collapsed": true
   },
   "outputs": [],
   "source": [
    "def padTo(x,size,kind='SYM'):\n",
    "    \"\"\"\n",
    "    Expects 1D array\n",
    "    \"\"\"\n",
    "    assert kind in ['LEFT','RIGHT','SYM']\n",
    "    if kind == 'LEFT':\n",
    "        pad = np.zeros(size-len(x),dtype=x.dtype)\n",
    "        r=np.concatenate((pad,x),axis=0)\n",
    "    elif kind == 'RIGHT':\n",
    "        pad = np.zeros(size-len(x),dtype=x.dtype)\n",
    "        r=np.concatenate((x,pad),axis=0)\n",
    "    elif kind == 'SYM':\n",
    "        padl = np.zeros((size-len(x))/2,dtype=x.dtype)\n",
    "        padr = np.zeros((size-len(x))/2+(size-len(x))%2,dtype=x.dtype)\n",
    "        r = np.concatenate((padl,x,padr),axis=0)\n",
    "    return r"
   ]
  },
  {
   "cell_type": "markdown",
   "metadata": {},
   "source": [
    "# Batch Generator\n",
    "\n",
    "convolution expects data of shape (batchsize,height,width,inchannel)\n",
    "\n",
    "Data should be of shape (batchsize,height=1,time_length (this is width),inchannel=1)"
   ]
  },
  {
   "cell_type": "code",
   "execution_count": 17,
   "metadata": {
    "collapsed": true
   },
   "outputs": [],
   "source": [
    "#note spec width was hacked so it truncated the data so it is divisible by 2\n",
    "class Batch(object):\n",
    "    def __init__(self,mapping,bin_max,batch_size=1):\n",
    "        self.mapping = mapping\n",
    "        self.bin_max = bin_max\n",
    "        self.batch_size = batch_size\n",
    "        self.seq_size = self.bin_max*SMP_RATE # raw audio\n",
    "        self.spec_width = self.seq_size/get_seg_size()*get_overlap()+1\n",
    "        self.spec_height = get_seg_size()/2+1\n",
    "        self.shape = (self.batch_size,self.spec_height,self.spec_width-1,1)\n",
    "        self.x_list = mapping.keys()\n",
    "        self.size = len(self.x_list) #data size\n",
    "        self.cursors = [(self.size//self.batch_size)*i for i in range(self.batch_size)]\n",
    "        \n",
    "    def getBatch(self):\n",
    "        #get the file names\n",
    "        x_path = [self.x_list[c] for c in self.cursors]\n",
    "        y_path = [self.mapping[xp] for xp in x_path]\n",
    "        \n",
    "        #Get the x,y files and pad\n",
    "        x = np.empty(shape=self.shape)\n",
    "        y = np.empty(shape=self.shape)\n",
    "        for i,(xp,yp) in enumerate(zip(x_path,y_path)):\n",
    "            _,x_raw=wavfile.read(xp)\n",
    "            _,y_raw=wavfile.read(yp)\n",
    "            x_pad = padTo(x_raw,self.bin_max*SMP_RATE)\n",
    "            y_pad = padTo(y_raw,self.bin_max*SMP_RATE)\n",
    "            x[i,:,:,0]=compute_spectrogram(x_pad)[:,:self.spec_width-1]\n",
    "            y[i,:,:,0]=compute_spectrogram(y_pad)[:,:self.spec_width-1]\n",
    "            \n",
    "        #update cursor positions\n",
    "        self.cursors = [(c+1)%self.size for c in self.cursors]\n",
    "        return (x,y)"
   ]
  },
  {
   "cell_type": "markdown",
   "metadata": {},
   "source": [
    "# PReLU"
   ]
  },
  {
   "cell_type": "code",
   "execution_count": 18,
   "metadata": {
    "collapsed": true
   },
   "outputs": [],
   "source": [
    "def prelu(x,name='prelu'):\n",
    "    in_shape = x.get_shape().as_list()\n",
    "    with tf.variable_scope(name):\n",
    "        alpha = tf.get_variable('alpha',in_shape[-1],\n",
    "                               initializer=tf.constant_initializer(0.1),\n",
    "                               dtype=tf.float32)\n",
    "        pos = tf.nn.relu(x)\n",
    "        neg = alpha * (x-tf.abs(x))*.5\n",
    "        \n",
    "        return pos + neg"
   ]
  },
  {
   "cell_type": "markdown",
   "metadata": {},
   "source": [
    "# Set up Batch"
   ]
  },
  {
   "cell_type": "code",
   "execution_count": 19,
   "metadata": {},
   "outputs": [],
   "source": [
    "b = Batch(mapping=bin_mapping,bin_max=bin_size_x[1],batch_size=32)"
   ]
  },
  {
   "cell_type": "markdown",
   "metadata": {},
   "source": [
    "# Build Graph and give inputs"
   ]
  },
  {
   "cell_type": "code",
   "execution_count": 20,
   "metadata": {
    "collapsed": true
   },
   "outputs": [],
   "source": [
    "g = tf.Graph()\n",
    "with g.as_default():\n",
    "    #try None shapes\n",
    "    x = tf.placeholder(tf.float32,shape=b.shape)\n",
    "    y = tf.placeholder(tf.float32,shape=b.shape)"
   ]
  },
  {
   "cell_type": "markdown",
   "metadata": {},
   "source": [
    "# Generator"
   ]
  },
  {
   "cell_type": "code",
   "execution_count": 22,
   "metadata": {},
   "outputs": [],
   "source": [
    "fw = 31 #filter width\n",
    "\n",
    "with g.as_default():    \n",
    "    #down convolutions operations\n",
    "    with tf.variable_scope('in'):\n",
    "        with tf.variable_scope('l1'):\n",
    "            # Shape (height,width,inchannels,out_channels)\n",
    "            conv1=tf.get_variable('conv1',shape=[1,fw,1,1],initializer=tf.truncated_normal_initializer(0,.01))\n",
    "            b1 = tf.get_variable('b1',shape=1,initializer=tf.constant_initializer(0.01))\n",
    "            l1=prelu(tf.nn.conv2d(x,conv1,strides=[1,1,2,1],padding='SAME')+b1)\n",
    "        with tf.variable_scope('l2'):\n",
    "            conv2=tf.get_variable('conv2',shape=[1,fw,1,16],initializer=tf.truncated_normal_initializer(0,.01))\n",
    "            b2 = tf.get_variable('b2',shape=16,initializer=tf.constant_initializer(0.01))\n",
    "            l2=prelu(tf.nn.conv2d(l1,conv2,strides=[1,1,2,1],padding='SAME')+b2)\n",
    "#         with tf.variable_scope('l3'):\n",
    "#             conv3=tf.get_variable('conv3',shape=[1,fw,16,32],initializer=tf.truncated_normal_initializer(0,.01))\n",
    "#             b3 = tf.get_variable('b3',shape=32,initializer=tf.constant_initializer(0.01))\n",
    "#             l3=prelu(tf.nn.conv2d(l2,conv3,strides=[1,1,2,1],padding='SAME')+b3)\n",
    "#         with tf.variable_scope('l4'):\n",
    "#             conv4=tf.get_variable('conv4',shape=[1,fw,32,32],initializer=tf.truncated_normal_initializer(0,.01))\n",
    "#             b4 = tf.get_variable('b4',shape=32,initializer=tf.constant_initializer(0.01))\n",
    "#             l4=prelu(tf.nn.conv2d(l3,conv4,strides=[1,1,2,1],padding='SAME')+b4)\n",
    "#         with tf.variable_scope('l5'):\n",
    "#             conv5=tf.get_variable('conv5',shape=[1,fw,32,64],initializer=tf.truncated_normal_initializer(0,.01))\n",
    "#             b5 = tf.get_variable('b5',shape=64,initializer=tf.constant_initializer(0.01))\n",
    "#             l5=prelu(tf.nn.conv2d(l4,conv5,strides=[1,1,2,1],padding='SAME')+b5)\n",
    "        \n",
    "    last_shape = l2.get_shape()\n",
    "    es=int(last_shape[2]) #encoding size\n",
    "    \n",
    "    # Transpose Convolution\n",
    "    #Create variables\n",
    "    with tf.variable_scope('out'):\n",
    "#         with tf.variable_scope('dl5'):\n",
    "#             # Shape (height,width,out_channels,input channels)\n",
    "#             dconv5 = tf.get_variable('dconv5',shape=[1,31,32,64],initializer=tf.truncated_normal_initializer(0,.01))\n",
    "#             db5 = tf.get_variable('b5',shape=32,initializer=tf.constant_initializer(0.01))\n",
    "#             dl5 = prelu(tf.nn.conv2d_transpose(l5,dconv5,output_shape=[b.batch_size,b.spec_height,(2**1)*es,32],strides=[1,1,2,1])+db5)\n",
    "#         with tf.variable_scope('dl4'):\n",
    "#             dconv4 = tf.get_variable('dconv4',shape=[1,31,32,32],initializer=tf.truncated_normal_initializer(0,.01))\n",
    "#             db4 = tf.get_variable('b4',shape=32,initializer=tf.constant_initializer(0.01))\n",
    "#             dl4 = prelu(tf.nn.conv2d_transpose(dl5,dconv4,output_shape=[b.batch_size,b.spec_height,(2**2)*es,32],strides=[1,1,2,1])+db4)\n",
    "#         with tf.variable_scope('dl3'):\n",
    "#             dconv3 = tf.get_variable('dconv3',shape=[1,fw,16,32],initializer=tf.truncated_normal_initializer(0,.01))\n",
    "#             db3 = tf.get_variable('b3',shape=16,initializer=tf.constant_initializer(0.01))\n",
    "#             dl3 = prelu(tf.nn.conv2d_transpose(l3,dconv3,output_shape=[b.batch_size,b.spec_height,(2**1)*es,16],strides=[1,1,2,1])+db3)\n",
    "        with tf.variable_scope('dl2'):\n",
    "            dconv2 = tf.get_variable('dconv2',shape=[1,fw,1,16],initializer=tf.truncated_normal_initializer(0,.01))\n",
    "            db2 = tf.get_variable('b2',shape=1,initializer=tf.constant_initializer(0.01))\n",
    "            dl2 = prelu(tf.nn.conv2d_transpose(l2,dconv2,output_shape=[b.batch_size,b.spec_height,(2**1)*es,1],strides=[1,1,2,1])+db2)\n",
    "        with tf.variable_scope('dl1'):\n",
    "            dconv1 = tf.get_variable('dconv1',shape=[1,fw,1,1],initializer=tf.truncated_normal_initializer(0,.01))\n",
    "            db1 = tf.get_variable('b1',shape=1,initializer=tf.constant_initializer(0.01))\n",
    "            dl1 = prelu(tf.nn.conv2d_transpose(dl2,dconv1,output_shape=b.shape,strides=[1,1,2,1],padding='SAME')+db1)\n",
    "            \n",
    "    #loss function\n",
    "    loss = tf.reduce_mean(tf.square(dl1 - y))\n",
    "    \n",
    "    #optimizer\n",
    "    optimizer = tf.train.AdamOptimizer(learning_rate=.0002)\n",
    "    \n",
    "    #original optimization\n",
    "    opt = optimizer.minimize(loss)\n",
    "    init=tf.global_variables_initializer()\n",
    "    \n",
    "    saver = tf.train.Saver()"
   ]
  },
  {
   "cell_type": "code",
   "execution_count": 23,
   "metadata": {},
   "outputs": [],
   "source": [
    "sess = tf.Session(graph=g)\n",
    "sess.run(init)"
   ]
  },
  {
   "cell_type": "code",
   "execution_count": 33,
   "metadata": {},
   "outputs": [],
   "source": [
    "# test if forward passes work\n",
    "x_data,y_data = b.getBatch()\n",
    "fd = {x:x_data,y:y_data}\n",
    "_ = sess.run(dl1,feed_dict=fd)"
   ]
  },
  {
   "cell_type": "code",
   "execution_count": 25,
   "metadata": {
    "collapsed": true
   },
   "outputs": [],
   "source": [
    "losses = []"
   ]
  },
  {
   "cell_type": "code",
   "execution_count": 26,
   "metadata": {},
   "outputs": [],
   "source": [
    "save_path = 'modelckpt/supervised_spec.ckpt'\n",
    "#saver.restore(save_path)"
   ]
  },
  {
   "cell_type": "code",
   "execution_count": 40,
   "metadata": {},
   "outputs": [
    {
     "name": "stderr",
     "output_type": "stream",
     "text": [
      "100%|██████████| 1000/1000 [18:33<00:00,  1.09s/it]\n"
     ]
    }
   ],
   "source": [
    "save_step = 500\n",
    "num_steps=1000\n",
    "for i in tqdm(xrange(num_steps)):\n",
    "    x_data,y_data = b.getBatch()\n",
    "    fd = {x:x_data,y:y_data}\n",
    "    _,l = sess.run([opt,loss],feed_dict=fd)\n",
    "    losses.append(l)\n",
    "    if i % save_step == 0:\n",
    "        save_path = saver.save(sess, save_path)"
   ]
  },
  {
   "cell_type": "code",
   "execution_count": 41,
   "metadata": {},
   "outputs": [
    {
     "data": {
      "text/plain": [
       "TensorShape([Dimension(32), Dimension(161), Dimension(150), Dimension(1)])"
      ]
     },
     "execution_count": 41,
     "metadata": {},
     "output_type": "execute_result"
    }
   ],
   "source": [
    "dl2.get_shape()"
   ]
  },
  {
   "cell_type": "markdown",
   "metadata": {},
   "source": [
    "# Evaluate Data"
   ]
  },
  {
   "cell_type": "code",
   "execution_count": 42,
   "metadata": {
    "collapsed": true
   },
   "outputs": [],
   "source": [
    "with g.as_default():\n",
    "    gen_audio = dl1"
   ]
  },
  {
   "cell_type": "code",
   "execution_count": 43,
   "metadata": {
    "collapsed": true
   },
   "outputs": [],
   "source": [
    "x_data,y_data = b.getBatch() #uncomment if not training\n",
    "fd = {x:x_data,y:y_data} #uncomment if not training\n",
    "result = sess.run(gen_audio,feed_dict=fd)"
   ]
  },
  {
   "cell_type": "code",
   "execution_count": 44,
   "metadata": {
    "collapsed": true
   },
   "outputs": [],
   "source": [
    "x_org = compute_inverse_spectrogram(x_data[0,:,:,0])\n",
    "gener = compute_inverse_spectrogram(result[0,:,:,0])\n",
    "y_tar = compute_inverse_spectrogram(y_data[0,:,:,0])"
   ]
  },
  {
   "cell_type": "code",
   "execution_count": 45,
   "metadata": {},
   "outputs": [
    {
     "data": {
      "text/plain": [
       "[<matplotlib.lines.Line2D at 0x11f4ad110>]"
      ]
     },
     "execution_count": 45,
     "metadata": {},
     "output_type": "execute_result"
    },
    {
     "data": {
      "image/png": "[encoded data removed]",
      "text/plain": [
       "<matplotlib.figure.Figure at 0x11773b250>"
      ]
     },
     "metadata": {},
     "output_type": "display_data"
    }
   ],
   "source": [
    "plt.figure(figsize=(15,5))\n",
    "plt.subplot(311)\n",
    "plt.plot(x_org,color='black')\n",
    "plt.subplot(312)\n",
    "plt.plot(gener,color='green')\n",
    "plt.subplot(313)\n",
    "plt.plot(y_tar,color='blue')"
   ]
  },
  {
   "cell_type": "code",
   "execution_count": 34,
   "metadata": {},
   "outputs": [
    {
     "name": "stdout",
     "output_type": "stream",
     "text": [
      "in/l1/conv1:0\n",
      "in/l1/b1:0\n",
      "in/l1/prelu/alpha:0\n",
      "in/l2/conv2:0\n",
      "in/l2/b2:0\n",
      "in/l2/prelu/alpha:0\n",
      "out/dl2/dconv2:0\n",
      "out/dl2/b2:0\n",
      "out/dl2/prelu/alpha:0\n",
      "out/dl1/dconv1:0\n",
      "out/dl1/b1:0\n",
      "out/dl1/prelu/alpha:0\n"
     ]
    }
   ],
   "source": [
    "for i in g.get_collection('trainable_variables'):\n",
    "    print i.name"
   ]
  },
  {
   "cell_type": "markdown",
   "metadata": {},
   "source": [
    "# Write to audio file"
   ]
  },
  {
   "cell_type": "code",
   "execution_count": 38,
   "metadata": {
    "collapsed": true
   },
   "outputs": [],
   "source": [
    "#generated\n",
    "f = open('samples/generated_audio1.wav','wr')\n",
    "wavfile.write(f,SMP_RATE,gener.astype(np.int16))\n",
    "f.close()"
   ]
  },
  {
   "cell_type": "code",
   "execution_count": 39,
   "metadata": {
    "collapsed": true
   },
   "outputs": [],
   "source": [
    "#original\n",
    "f = open('samples/org_audio1.wav','wr')\n",
    "wavfile.write(f,SMP_RATE,x_org.astype(np.int16))\n",
    "f.close()"
   ]
  },
  {
   "cell_type": "code",
   "execution_count": 45,
   "metadata": {
    "collapsed": true
   },
   "outputs": [],
   "source": [
    "#target\n",
    "f = open('samples/target_audio1.wav','wr')\n",
    "wavfile.write(f,SMP_RATE,y_tar.astype(np.int16))\n",
    "f.close()"
   ]
  },
  {
   "cell_type": "code",
   "execution_count": null,
   "metadata": {
    "collapsed": true
   },
   "outputs": [],
   "source": []
  }
 ],
 "metadata": {
  "anaconda-cloud": {},
  "kernelspec": {
   "display_name": "Python 2",
   "language": "python",
   "name": "python2"
  },
  "language_info": {
   "codemirror_mode": {
    "name": "ipython",
    "version": 2
   },
   "file_extension": ".py",
   "mimetype": "text/x-python",
   "name": "python",
   "nbconvert_exporter": "python",
   "pygments_lexer": "ipython2",
   "version": "2.7.13"
  }
 },
 "nbformat": 4,
 "nbformat_minor": 2
}
