{
 "cells": [
  {
   "cell_type": "code",
   "execution_count": 1,
   "metadata": {
    "collapsed": true
   },
   "outputs": [],
   "source": [
    "import tensorflow as tf\n",
    "#import wave\n",
    "import glob\n",
    "import scipy.io.wavfile as wavfile\n",
    "import numpy as np\n",
    "from matplotlib import pyplot as plt\n",
    "from tqdm import tqdm\n",
    "%matplotlib inline"
   ]
  },
  {
   "cell_type": "code",
   "execution_count": 2,
   "metadata": {
    "collapsed": true
   },
   "outputs": [],
   "source": [
    "global SMP_RATE\n",
    "SMP_RATE = 16000"
   ]
  },
  {
   "cell_type": "code",
   "execution_count": 3,
   "metadata": {
    "collapsed": true
   },
   "outputs": [],
   "source": [
    "def getWaveName(wavepath):\n",
    "    return wavepath.split('/')[-1]\n",
    "\n",
    "def findWave(wavefile,path):\n",
    "    r = glob.glob(path+wavefile)\n",
    "    return r[0]"
   ]
  },
  {
   "cell_type": "code",
   "execution_count": 11,
   "metadata": {
    "collapsed": true
   },
   "outputs": [],
   "source": [
    "fpath = '../../cmu_artic/female_us_slt/' #desktop\n",
    "mpath = '../../cmu_artic/male_us_bdl/' #desktop\n",
    "# fpath = '../data/female_us/'\n",
    "# mpath = '../data/male_us/'"
   ]
  },
  {
   "cell_type": "code",
   "execution_count": 12,
   "metadata": {
    "collapsed": true
   },
   "outputs": [],
   "source": [
    "# map male to female\n",
    "m2f = dict()\n",
    "for i in glob.glob(mpath+'/*.wav'):\n",
    "    m2f[i]=findWave(getWaveName(i),fpath)"
   ]
  },
  {
   "cell_type": "code",
   "execution_count": 13,
   "metadata": {
    "collapsed": true
   },
   "outputs": [],
   "source": [
    "bin_size_x = (2,3)\n",
    "bin_size_y = (2,3)"
   ]
  },
  {
   "cell_type": "code",
   "execution_count": 14,
   "metadata": {
    "collapsed": true
   },
   "outputs": [],
   "source": [
    "bin_mapping = {}\n",
    "for filename in glob.glob(mpath+'*.wav'):\n",
    "    fm, wav_data = wavfile.read(filename)\n",
    "    size = wav_data.shape[0]/(1.0*fm)\n",
    "    if size < bin_size_x[1] and size > bin_size_x[0]:\n",
    "        fm2, wav_data2 = wavfile.read(m2f[filename])\n",
    "        size2 = wav_data2.shape[0]/(1.0*fm2)\n",
    "        if size2 < bin_size_x[1] and size2 > bin_size_x[0]:\n",
    "            bin_mapping[filename] = m2f[filename]"
   ]
  },
  {
   "cell_type": "code",
   "execution_count": 15,
   "metadata": {
    "collapsed": true
   },
   "outputs": [],
   "source": [
    "def padTo(x,size,kind='SYM'):\n",
    "    \"\"\"\n",
    "    Expects 1D array\n",
    "    \"\"\"\n",
    "    assert kind in ['LEFT','RIGHT','SYM']\n",
    "    if kind == 'LEFT':\n",
    "        pad = np.zeros(size-len(x),dtype=x.dtype)\n",
    "        r=np.concatenate((pad,x),axis=0)\n",
    "    elif kind == 'RIGHT':\n",
    "        pad = np.zeros(size-len(x),dtype=x.dtype)\n",
    "        r=np.concatenate((x,pad),axis=0)\n",
    "    elif kind == 'SYM':\n",
    "        padl = np.zeros((size-len(x))/2,dtype=x.dtype)\n",
    "        padr = np.zeros((size-len(x))/2+(size-len(x))%2,dtype=x.dtype)\n",
    "        r = np.concatenate((padl,x,padr),axis=0)\n",
    "    return r"
   ]
  },
  {
   "cell_type": "code",
   "execution_count": 16,
   "metadata": {
    "collapsed": true
   },
   "outputs": [],
   "source": [
    "class Batch(object):\n",
    "    def __init__(self,mapping,bin_max,batch_size=1):\n",
    "        self.mapping = mapping\n",
    "        self.bin_max = bin_max\n",
    "        self.batch_size = batch_size\n",
    "        self.seq_size = self.bin_max*SMP_RATE\n",
    "        self.shape = (self.batch_size,1,self.seq_size,1)\n",
    "        self.x_list = mapping.keys()\n",
    "        self.size = len(self.x_list) #data size\n",
    "        self.cursors = [(self.size//self.batch_size)*i for i in range(self.batch_size)]\n",
    "        \n",
    "    def getBatch(self):\n",
    "        #get the file names\n",
    "        x_path = [self.x_list[c] for c in self.cursors]\n",
    "        y_path = [self.mapping[xp] for xp in x_path]\n",
    "        \n",
    "        #Get the x,y files and pad\n",
    "        x = np.empty(shape=(self.batch_size,1,self.seq_size,1))\n",
    "        y = np.empty(shape=(self.batch_size,1,self.seq_size,1))\n",
    "        for i,(xp,yp) in enumerate(zip(x_path,y_path)):\n",
    "            _,x_raw=wavfile.read(xp)\n",
    "            _,y_raw=wavfile.read(yp)\n",
    "            x_pad = padTo(x_raw,self.bin_max*SMP_RATE)\n",
    "            y_pad = padTo(y_raw,self.bin_max*SMP_RATE)\n",
    "            x[i,0,:,0]=x_pad\n",
    "            y[i,0,:,0]=y_pad\n",
    "            \n",
    "        #update cursor positions\n",
    "        self.cursors = [(c+1)%self.size for c in self.cursors]\n",
    "        return (x,y)"
   ]
  },
  {
   "cell_type": "markdown",
   "metadata": {},
   "source": [
    "# Ops"
   ]
  },
  {
   "cell_type": "code",
   "execution_count": 17,
   "metadata": {
    "collapsed": true
   },
   "outputs": [],
   "source": [
    "def prelu(x,name='prelu'):\n",
    "    in_shape = x.get_shape().as_list()\n",
    "    with tf.variable_scope(name):\n",
    "        alpha = tf.get_variable('alpha',in_shape[-1],\n",
    "                               initializer=tf.constant_initializer(0.),\n",
    "                               dtype=tf.float32)\n",
    "        pos = tf.nn.relu(x)\n",
    "        neg = alpha * (x-tf.abs(x))*.5\n",
    "        \n",
    "        return pos + neg"
   ]
  },
  {
   "cell_type": "code",
   "execution_count": 127,
   "metadata": {
    "collapsed": true
   },
   "outputs": [],
   "source": [
    "def lrelu(x, alpha=0.3, name='lrelu'):\n",
    "    return tf.maximum(x, alpha * x, name=name)"
   ]
  },
  {
   "cell_type": "code",
   "execution_count": 18,
   "metadata": {
    "collapsed": true
   },
   "outputs": [],
   "source": [
    "def bn(x,ri=[0,1,2],eps=.0001,scaling=True):\n",
    "    xshp=x.get_shape().as_list()\n",
    "    with tf.variable_scope('bn'):\n",
    "        mu = tf.reduce_mean(x,ri,keep_dims=True)\n",
    "        sigma = tf.reduce_mean(tf.square(x-mu),ri,keep_dims=True)\n",
    "        x_hat = (x-mu)/(tf.sqrt(sigma+eps))\n",
    "        \n",
    "        if scaling:\n",
    "            gamma = tf.get_variable('gamma',[xshp[-1]],initializer=tf.truncated_normal_initializer(0,.1))\n",
    "            beta = tf.get_variable('beta',[xshp[-1]],initializer=tf.constant_initializer(1.))\n",
    "            y = gamma*x_hat+beta\n",
    "        else:\n",
    "            y = x_hat\n",
    "    return y"
   ]
  },
  {
   "cell_type": "code",
   "execution_count": 19,
   "metadata": {
    "collapsed": true
   },
   "outputs": [],
   "source": [
    "b = Batch(mapping=bin_mapping,bin_max=bin_size_x[1],batch_size=32)"
   ]
  },
  {
   "cell_type": "code",
   "execution_count": 155,
   "metadata": {
    "collapsed": true
   },
   "outputs": [],
   "source": [
    "save_path = 'modelckpt/disc_raw.ckpt'\n",
    "tb_path = '../tb_logs/'"
   ]
  },
  {
   "cell_type": "markdown",
   "metadata": {},
   "source": [
    "# Model"
   ]
  },
  {
   "cell_type": "code",
   "execution_count": 233,
   "metadata": {
    "collapsed": true
   },
   "outputs": [],
   "source": [
    "g = tf.Graph()\n",
    "with g.as_default():\n",
    "    x = tf.placeholder(tf.float32,shape=b.shape)\n",
    "    y = tf.placeholder(tf.float32,shape=b.shape)"
   ]
  },
  {
   "cell_type": "code",
   "execution_count": 234,
   "metadata": {
    "collapsed": true
   },
   "outputs": [],
   "source": [
    "with g.as_default():\n",
    "    def Dis(x,reuse=False):\n",
    "        with tf.variable_scope('Discriminator') as scope:\n",
    "            if reuse:\n",
    "                scope.reuse_variables()\n",
    "            #Down Colnvolutions\n",
    "            #create variables\n",
    "            with tf.variable_scope('in'):\n",
    "                # Shape (height,width,inchannels,out_channels)\n",
    "                #down convolutions operations\n",
    "                with tf.variable_scope('l1'):\n",
    "                    dis_conv1=tf.get_variable('conv1',shape=[1,31,1,1],initializer=tf.truncated_normal_initializer(0,.02))\n",
    "                    dis_b1 = tf.get_variable('b1',shape=1,initializer=tf.constant_initializer(0.1))\n",
    "                    dis_l1=lrelu(bn(tf.nn.conv2d(x,dis_conv1,strides=[1,1,2,1],padding='SAME')+dis_b1))\n",
    "                with tf.variable_scope('l2'):\n",
    "                    dis_conv2=tf.get_variable('conv2',shape=[1,31,1,16],initializer=tf.truncated_normal_initializer(0,.02))\n",
    "                    dis_b2 = tf.get_variable('b2',shape=16,initializer=tf.constant_initializer(0.1))\n",
    "                    dis_l2=lrelu(bn(tf.nn.conv2d(dis_l1,dis_conv2,strides=[1,1,2,1],padding='SAME')+dis_b2))\n",
    "                with tf.variable_scope('l3'):\n",
    "                    dis_conv3=tf.get_variable('conv3',shape=[1,31,16,32],initializer=tf.truncated_normal_initializer(0,.02))\n",
    "                    dis_b3 = tf.get_variable('b3',shape=32,initializer=tf.constant_initializer(0.1))\n",
    "                    dis_l3=lrelu(bn(tf.nn.conv2d(dis_l2,dis_conv3,strides=[1,1,2,1],padding='SAME')+dis_b3))\n",
    "                with tf.variable_scope('l4'):\n",
    "                    dis_conv4=tf.get_variable('conv4',shape=[1,31,32,32],initializer=tf.truncated_normal_initializer(0,.02))\n",
    "                    dis_b4 = tf.get_variable('b4',shape=32,initializer=tf.constant_initializer(0.1))\n",
    "                    dis_l4=lrelu(bn(tf.nn.conv2d(dis_l3,dis_conv4,strides=[1,1,2,1],padding='SAME')+dis_b4))\n",
    "                with tf.variable_scope('l5'):\n",
    "                    dis_conv5=tf.get_variable('conv5',shape=[1,31,32,64],initializer=tf.truncated_normal_initializer(0,.02))\n",
    "                    dis_b5 = tf.get_variable('b5',shape=64,initializer=tf.constant_initializer(0.1))\n",
    "                    dis_l5=lrelu(bn(tf.nn.conv2d(dis_l4,dis_conv5,strides=[1,1,2,1],padding='SAME')+dis_b5))\n",
    "                with tf.variable_scope('l6'):\n",
    "                    dis_conv6=tf.get_variable('conv6',shape=[1,31,64,64],initializer=tf.truncated_normal_initializer(0,.02))\n",
    "                    dis_b6 = tf.get_variable('b6',shape=64,initializer=tf.constant_initializer(0.1))\n",
    "                    dis_l6=lrelu(bn(tf.nn.conv2d(dis_l5,dis_conv6,strides=[1,1,2,1],padding='SAME')+dis_b6))\n",
    "                with tf.variable_scope('l7'):\n",
    "                    dis_conv7=tf.get_variable('conv7',shape=[1,31,64,128],initializer=tf.truncated_normal_initializer(0,.02))\n",
    "                    dis_b7 = tf.get_variable('b7',shape=128,initializer=tf.constant_initializer(0.1))\n",
    "                    dis_l7=lrelu(bn(tf.nn.conv2d(dis_l6,dis_conv7,strides=[1,1,2,1],padding='SAME')+dis_b7))\n",
    "\n",
    "            dis_last_shape = dis_l7.get_shape()\n",
    "            dis_es=int(dis_last_shape[2])*int(dis_last_shape[3]) #size of encoding\n",
    "            dis_last = tf.reshape(bn(dis_l7),[b.batch_size,dis_es,1,1])\n",
    "            \n",
    "            with tf.variable_scope('final_conv'):\n",
    "                dis_conv_na = tf.get_variable('conv',shape=[1,1,1,1],initializer=tf.truncated_normal_initializer(0,.02))\n",
    "                dis_b_na = tf.get_variable('b',shape=[1],initializer=tf.constant_initializer(0.0))\n",
    "                dis_na=tf.nn.conv2d(dis_last,dis_conv_na,strides=[1,1,1,1],padding='SAME')+dis_b_na\n",
    "                dis_na = tf.reshape(dis_na,[b.batch_size,dis_es])\n",
    "                \n",
    "\n",
    "            #fully connected\n",
    "            with tf.variable_scope('fc'):\n",
    "                W_fc = tf.get_variable('W',shape=[dis_es,1],initializer=tf.truncated_normal_initializer(0.1))\n",
    "                b_fc = tf.get_variable('b',shape=[1],initializer=tf.constant_initializer(0.1))\n",
    "\n",
    "                #D_out = tf.sigmoid(bn(tf.matmul(dis_last,W_fc)+b_fc,ri=[0,1],scaling=True))\n",
    "                D_out = tf.matmul(dis_na,W_fc)+b_fc\n",
    "        return D_out"
   ]
  },
  {
   "cell_type": "markdown",
   "metadata": {},
   "source": [
    "## Losses and optimization"
   ]
  },
  {
   "cell_type": "code",
   "execution_count": 235,
   "metadata": {},
   "outputs": [],
   "source": [
    "with g.as_default():\n",
    "    x_logit=Dis(x)\n",
    "    y_logit=Dis(y,reuse=True)\n",
    "    \n",
    "    x_pred = tf.sigmoid(x_logit)\n",
    "    y_pred = tf.sigmoid(y_logit)\n",
    "    \n",
    "    #early losses\n",
    "    loss1 = tf.reduce_mean(tf.square(x_logit)) #regularized loss for x\n",
    "    loss2 = tf.reduce_mean(tf.square(y_logit-1)) #regularized loss for y\n",
    "    loss_early = loss1+loss2\n",
    "    \n",
    "    #later\n",
    "    loss3 = tf.reduce_mean(tf.log(x_pred))\n",
    "    loss4 = tf.reduce_mean(tf.log(1-y_pred))\n",
    "    loss_later = loss3+loss4\n",
    "\n",
    "    #earlier optimizer\n",
    "    opt = tf.train.AdamOptimizer(learning_rate=0.0002).minimize(loss_early)\n",
    "    \n",
    "    #late optimizer\n",
    "#     dvars = [e for e in g.get_collection('trainable_variables') if 'Discriminator' in e.name]\n",
    "#     # gradient clipping\n",
    "#     optimizer = tf.train.AdadeltaOptimizer(learning_rate=.0002)\n",
    "#     grad_d,var_d = zip(*optimizer.compute_gradients(loss_early,var_list=dvars))\n",
    "#     grad_d_clipped ,_= tf.clip_by_global_norm(grad_d,.5)\n",
    "#     opt_late=optimizer.apply_gradients(zip(grad_d_clipped,var_d))\n",
    "    \n",
    "    "
   ]
  },
  {
   "cell_type": "markdown",
   "metadata": {},
   "source": [
    "## Summaries"
   ]
  },
  {
   "cell_type": "code",
   "execution_count": 236,
   "metadata": {},
   "outputs": [],
   "source": [
    "with g.as_default():\n",
    "    #tf.summary.scalar('max_gradient',tf.maximum(tf.abs(grad_d)))\n",
    "    tf.summary.scalar('Early_Discriminator_Loss',loss_early)\n",
    "    tf.summary.scalar('Later_Discriminator_Loss',loss_later)\n",
    "    tf.summary.histogram(\"X_Predictions\",x_pred)\n",
    "    tf.summary.histogram(\"Y_Predictions\",y_pred)\n",
    "    merged = tf.summary.merge_all()\n",
    "    "
   ]
  },
  {
   "cell_type": "markdown",
   "metadata": {},
   "source": [
    "## Initialize Variables"
   ]
  },
  {
   "cell_type": "code",
   "execution_count": 237,
   "metadata": {
    "collapsed": true
   },
   "outputs": [],
   "source": [
    "with g.as_default():\n",
    "    init = tf.global_variables_initializer()"
   ]
  },
  {
   "cell_type": "markdown",
   "metadata": {},
   "source": [
    "## Saver"
   ]
  },
  {
   "cell_type": "code",
   "execution_count": 238,
   "metadata": {
    "collapsed": true
   },
   "outputs": [],
   "source": [
    "with g.as_default():\n",
    "    saver = tf.train.Saver()"
   ]
  },
  {
   "cell_type": "markdown",
   "metadata": {},
   "source": [
    "## Session and writer"
   ]
  },
  {
   "cell_type": "code",
   "execution_count": 239,
   "metadata": {
    "collapsed": true
   },
   "outputs": [],
   "source": [
    "sess=tf.Session(graph=g)\n",
    "writer = tf.summary.FileWriter(tb_path,g)\n",
    "sess.run(init)\n",
    "losses = []"
   ]
  },
  {
   "cell_type": "code",
   "execution_count": 244,
   "metadata": {},
   "outputs": [
    {
     "data": {
      "text/plain": [
       "array([[ 0.62725395],\n",
       "       [ 0.62858242],\n",
       "       [ 0.62901223],\n",
       "       [ 0.62931466],\n",
       "       [ 0.62942457],\n",
       "       [ 0.62984264],\n",
       "       [ 0.62975246],\n",
       "       [ 0.62826651],\n",
       "       [ 0.62843829],\n",
       "       [ 0.6310153 ],\n",
       "       [ 0.62489188],\n",
       "       [ 0.62999088],\n",
       "       [ 0.63052374],\n",
       "       [ 0.62933362],\n",
       "       [ 0.6278373 ],\n",
       "       [ 0.62826246],\n",
       "       [ 0.6299808 ],\n",
       "       [ 0.62826121],\n",
       "       [ 0.63038492],\n",
       "       [ 0.63164765],\n",
       "       [ 0.6301285 ],\n",
       "       [ 0.62965095],\n",
       "       [ 0.63072401],\n",
       "       [ 0.63483804],\n",
       "       [ 0.63027304],\n",
       "       [ 0.6283291 ],\n",
       "       [ 0.62875396],\n",
       "       [ 0.62768477],\n",
       "       [ 0.63116038],\n",
       "       [ 0.63011688],\n",
       "       [ 0.62994844],\n",
       "       [ 0.62904972]], dtype=float32)"
      ]
     },
     "execution_count": 244,
     "metadata": {},
     "output_type": "execute_result"
    }
   ],
   "source": [
    "x_data,y_data = b.getBatch()\n",
    "fd = {x:x_data,y:y_data}\n",
    "sess.run(y_pred,feed_dict=fd)"
   ]
  },
  {
   "cell_type": "markdown",
   "metadata": {},
   "source": [
    "# Training"
   ]
  },
  {
   "cell_type": "code",
   "execution_count": 241,
   "metadata": {},
   "outputs": [
    {
     "name": "stderr",
     "output_type": "stream",
     "text": [
      "100%|██████████| 300/300 [01:25<00:00,  3.61it/s]\n"
     ]
    }
   ],
   "source": [
    "num_steps = 300\n",
    "save_step = 500\n",
    "for i in tqdm(xrange(num_steps)):\n",
    "    x_data,y_data = b.getBatch()\n",
    "    fd = {x:x_data,y:y_data}\n",
    "    _,l = sess.run([opt,loss_early],feed_dict=fd)\n",
    "#     _ = sess.run([opt_late],feed_dict=fd)\n",
    "    losses.append(l)\n",
    "    if i % 10 == 0:\n",
    "        summary = sess.run(merged,feed_dict = fd)\n",
    "        writer.add_summary(summary,i)\n",
    "    if i % save_step == 0:\n",
    "        save_path = saver.save(sess, save_path)"
   ]
  },
  {
   "cell_type": "code",
   "execution_count": 242,
   "metadata": {},
   "outputs": [
    {
     "data": {
      "text/plain": [
       "[<matplotlib.lines.Line2D at 0x7f12be3cfd10>]"
      ]
     },
     "execution_count": 242,
     "metadata": {},
     "output_type": "execute_result"
    },
    {
     "data": {
      "image/png": "[encoded data removed]",
      "text/plain": [
       "<matplotlib.figure.Figure at 0x7f12c0f0c350>"
      ]
     },
     "metadata": {},
     "output_type": "display_data"
    }
   ],
   "source": [
    "plt.plot(losses)"
   ]
  },
  {
   "cell_type": "code",
   "execution_count": null,
   "metadata": {
    "collapsed": true
   },
   "outputs": [],
   "source": []
  }
 ],
 "metadata": {
  "anaconda-cloud": {},
  "kernelspec": {
   "display_name": "Python 2",
   "language": "python",
   "name": "python2"
  },
  "language_info": {
   "codemirror_mode": {
    "name": "ipython",
    "version": 2
   },
   "file_extension": ".py",
   "mimetype": "text/x-python",
   "name": "python",
   "nbconvert_exporter": "python",
   "pygments_lexer": "ipython2",
   "version": "2.7.13"
  }
 },
 "nbformat": 4,
 "nbformat_minor": 1
}
