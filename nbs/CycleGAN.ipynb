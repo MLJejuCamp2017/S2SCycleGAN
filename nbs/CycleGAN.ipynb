{
 "cells": [
  {
   "cell_type": "code",
   "execution_count": 1,
   "metadata": {
    "collapsed": true
   },
   "outputs": [],
   "source": [
    "import tensorflow as tf\n",
    "#import wave\n",
    "import glob\n",
    "import scipy.io.wavfile as wavfile\n",
    "import numpy as np\n",
    "from matplotlib import pyplot as plt\n",
    "from tqdm import tqdm\n",
    "from tqdm import tqdm_notebook\n",
    "%matplotlib inline"
   ]
  },
  {
   "cell_type": "code",
   "execution_count": 11,
   "metadata": {
    "collapsed": true
   },
   "outputs": [],
   "source": [
    "global SMP_RATE, MAX_INT16, N_LAY\n",
    "#SMP_RATE = 16000\n",
    "SMP_RATE = 16384\n",
    "MAX_INT16 = 32768\n",
    "cycle_reg = .001"
   ]
  },
  {
   "cell_type": "code",
   "execution_count": 3,
   "metadata": {
    "collapsed": true
   },
   "outputs": [],
   "source": [
    "def getWaveName(wavepath):\n",
    "    return wavepath.split('/')[-1]\n",
    "\n",
    "def findWave(wavefile,path):\n",
    "    r = glob.glob(path+wavefile)\n",
    "    return r[0]"
   ]
  },
  {
   "cell_type": "code",
   "execution_count": 4,
   "metadata": {
    "collapsed": true
   },
   "outputs": [],
   "source": [
    "# fpath = '../../cmu_artic/female_us_slt/' #desktop\n",
    "# mpath = '../../cmu_artic/male_us_bdl/' #desktop\n",
    "fpath = '../data/female_us/'\n",
    "mpath = '../data/male_us/'"
   ]
  },
  {
   "cell_type": "markdown",
   "metadata": {},
   "source": [
    "# Hacky parallel dataset"
   ]
  },
  {
   "cell_type": "code",
   "execution_count": 5,
   "metadata": {
    "collapsed": true
   },
   "outputs": [],
   "source": [
    "# map male to female\n",
    "m2f = dict()\n",
    "for i in glob.glob(mpath+'/*.wav'):\n",
    "    m2f[i]=findWave(getWaveName(i),fpath)"
   ]
  },
  {
   "cell_type": "code",
   "execution_count": 6,
   "metadata": {},
   "outputs": [
    {
     "data": {
      "text/plain": [
       "'../data/male_us/arctic_a0209.wav'"
      ]
     },
     "execution_count": 6,
     "metadata": {},
     "output_type": "execute_result"
    }
   ],
   "source": [
    "m2f.keys()[0]"
   ]
  },
  {
   "cell_type": "markdown",
   "metadata": {},
   "source": [
    "# Bin before hand"
   ]
  },
  {
   "cell_type": "code",
   "execution_count": 12,
   "metadata": {
    "collapsed": true
   },
   "outputs": [],
   "source": [
    "bin_size_x = (1,5)\n",
    "bin_size_y = (1,5)"
   ]
  },
  {
   "cell_type": "code",
   "execution_count": 13,
   "metadata": {
    "collapsed": true
   },
   "outputs": [],
   "source": [
    "bin_mapping = {}\n",
    "for filename in glob.glob(mpath+'*.wav'):\n",
    "    fm, wav_data = wavfile.read(filename)\n",
    "    size = wav_data.shape[0]/(1.0*fm)\n",
    "    if size < bin_size_x[1] and size > bin_size_x[0]:\n",
    "        fm2, wav_data2 = wavfile.read(m2f[filename])\n",
    "        size2 = wav_data2.shape[0]/(1.0*fm2)\n",
    "        if size2 < bin_size_x[1] and size2 > bin_size_x[0]:\n",
    "            bin_mapping[filename] = m2f[filename]"
   ]
  },
  {
   "cell_type": "code",
   "execution_count": 14,
   "metadata": {},
   "outputs": [
    {
     "data": {
      "text/plain": [
       "1121"
      ]
     },
     "execution_count": 14,
     "metadata": {},
     "output_type": "execute_result"
    }
   ],
   "source": [
    "len(bin_mapping)"
   ]
  },
  {
   "cell_type": "markdown",
   "metadata": {},
   "source": [
    "# Sec to Samples"
   ]
  },
  {
   "cell_type": "code",
   "execution_count": 15,
   "metadata": {
    "collapsed": true
   },
   "outputs": [],
   "source": [
    "def sec2samp(sec,smp_rate):\n",
    "    return int(sec*smp_rate)"
   ]
  },
  {
   "cell_type": "markdown",
   "metadata": {},
   "source": [
    "# Padding \n",
    "\n",
    "so all samples are same length"
   ]
  },
  {
   "cell_type": "code",
   "execution_count": 16,
   "metadata": {
    "collapsed": true
   },
   "outputs": [],
   "source": [
    "def padTo(x,size,kind='SYM'):\n",
    "    \"\"\"\n",
    "    Expects 1D array\n",
    "    \"\"\"\n",
    "    assert kind in ['LEFT','RIGHT','SYM']\n",
    "    if kind == 'LEFT':\n",
    "        pad = np.zeros(size-len(x),dtype=x.dtype)\n",
    "        r=np.concatenate((pad,x),axis=0)\n",
    "    elif kind == 'RIGHT':\n",
    "        pad = np.zeros(size-len(x),dtype=x.dtype)\n",
    "        r=np.concatenate((x,pad),axis=0)\n",
    "    elif kind == 'SYM':\n",
    "        padl = np.zeros((size-len(x))/2,dtype=x.dtype)\n",
    "        padr = np.zeros((size-len(x))/2+(size-len(x))%2,dtype=x.dtype)\n",
    "        r = np.concatenate((padl,x,padr),axis=0)\n",
    "    return r"
   ]
  },
  {
   "cell_type": "markdown",
   "metadata": {},
   "source": [
    "# Batch Generator\n",
    "\n",
    "convolution expects data of shape (batchsize,height,width,inchannel)\n",
    "\n",
    "Data should be of shape (batchsize,height=1,time_length (this is width),inchannel=1)"
   ]
  },
  {
   "cell_type": "code",
   "execution_count": 17,
   "metadata": {
    "collapsed": true
   },
   "outputs": [],
   "source": [
    "class Batch(object):\n",
    "    def __init__(self,mapping,bin_max,batch_size=1):\n",
    "        self.mapping = mapping\n",
    "        self.bin_max = bin_max\n",
    "        self.batch_size = batch_size\n",
    "        self.seq_size = self.bin_max*SMP_RATE\n",
    "        self.shape = (self.batch_size,1,self.seq_size,1)\n",
    "        self.x_list = mapping.keys()\n",
    "        self.size = len(self.x_list) #data size\n",
    "        self.cursors = [(self.size//self.batch_size)*i for i in range(self.batch_size)]\n",
    "        \n",
    "    def getBatch(self):\n",
    "        #get the file names\n",
    "        x_path = [self.x_list[c] for c in self.cursors]\n",
    "        y_path = [self.mapping[xp] for xp in x_path]\n",
    "        \n",
    "        #Get the x,y files and pad\n",
    "        x = np.empty(shape=(self.batch_size,1,self.seq_size,1))\n",
    "        y = np.empty(shape=(self.batch_size,1,self.seq_size,1))\n",
    "        for i,(xp,yp) in enumerate(zip(x_path,y_path)):\n",
    "            _,x_raw=wavfile.read(xp)\n",
    "            _,y_raw=wavfile.read(yp)\n",
    "            x_pad = padTo(x_raw,self.bin_max*SMP_RATE)/(1.0*MAX_INT16)\n",
    "            y_pad = padTo(y_raw,self.bin_max*SMP_RATE)/(1.0*MAX_INT16)\n",
    "            x[i,0,:,0]=x_pad\n",
    "            y[i,0,:,0]=y_pad\n",
    "            \n",
    "        #update cursor positions\n",
    "        self.cursors = [(c+1)%self.size for c in self.cursors]\n",
    "        return (x,y)"
   ]
  },
  {
   "cell_type": "code",
   "execution_count": 18,
   "metadata": {
    "collapsed": true
   },
   "outputs": [],
   "source": [
    "b = Batch(mapping=bin_mapping,bin_max=bin_size_x[1],batch_size=32)"
   ]
  },
  {
   "cell_type": "markdown",
   "metadata": {},
   "source": [
    "# Leaky ReLU"
   ]
  },
  {
   "cell_type": "code",
   "execution_count": 19,
   "metadata": {
    "collapsed": true
   },
   "outputs": [],
   "source": [
    "def lrelu(x, alpha=0.3, name='lrelu'):\n",
    "    return tf.maximum(x, alpha * x, name=name)"
   ]
  },
  {
   "cell_type": "markdown",
   "metadata": {},
   "source": [
    "# PReLU"
   ]
  },
  {
   "cell_type": "code",
   "execution_count": 20,
   "metadata": {
    "collapsed": true
   },
   "outputs": [],
   "source": [
    "def prelu(x,name='prelu'):\n",
    "    in_shape = x.get_shape().as_list()\n",
    "    with tf.variable_scope(name):\n",
    "        alpha = tf.get_variable('alpha',in_shape[-1],\n",
    "                               initializer=tf.constant_initializer(0.),\n",
    "                               dtype=tf.float32)\n",
    "        pos = tf.nn.relu(x)\n",
    "        neg = alpha * (x-tf.abs(x))*.5\n",
    "        \n",
    "        return pos + neg"
   ]
  },
  {
   "cell_type": "markdown",
   "metadata": {},
   "source": [
    "# Batch Norm"
   ]
  },
  {
   "cell_type": "code",
   "execution_count": 21,
   "metadata": {
    "collapsed": true
   },
   "outputs": [],
   "source": [
    "def bn(x,ri=[0,1,2],eps=.0001,scaling=True):\n",
    "    \"\"\"\n",
    "    x : tf tensor\n",
    "        input tensor\n",
    "        \n",
    "    ri : array\n",
    "        reduction indices\n",
    "    \"\"\"\n",
    "    xshp=x.get_shape().as_list()\n",
    "    with tf.variable_scope('bn'):\n",
    "        mu = tf.reduce_mean(x,ri,keep_dims=True)\n",
    "        sigma = tf.reduce_mean(tf.square(x-mu),ri,keep_dims=True)\n",
    "        x_hat = (x-mu)/(tf.sqrt(sigma+eps))\n",
    "        \n",
    "        if scaling:\n",
    "            #gamma = tf.get_variable('gamma',[xshp[-1]],initializer=tf.truncated_normal_initializer(0,.1))\n",
    "            gamma = tf.get_variable('gamma',[xshp[-1]],initializer=tf.constant_initializer(.1))\n",
    "            beta = tf.get_variable('beta',[xshp[-1]],initializer=tf.constant_initializer(0.))\n",
    "            y = gamma*x_hat+beta\n",
    "        else:\n",
    "            y = x_hat\n",
    "    return y"
   ]
  },
  {
   "cell_type": "markdown",
   "metadata": {},
   "source": [
    "# Set up Batch"
   ]
  },
  {
   "cell_type": "code",
   "execution_count": 22,
   "metadata": {
    "collapsed": true
   },
   "outputs": [],
   "source": [
    "b = Batch(mapping=bin_mapping,bin_max=bin_size_x[1],batch_size=1)"
   ]
  },
  {
   "cell_type": "markdown",
   "metadata": {},
   "source": [
    "# Model Name"
   ]
  },
  {
   "cell_type": "code",
   "execution_count": 23,
   "metadata": {
    "collapsed": true
   },
   "outputs": [],
   "source": [
    "save_path = 'modelCycle/model.ckpt'"
   ]
  },
  {
   "cell_type": "markdown",
   "metadata": {},
   "source": [
    "# Build Graph and give inputs"
   ]
  },
  {
   "cell_type": "code",
   "execution_count": 24,
   "metadata": {
    "collapsed": true
   },
   "outputs": [],
   "source": [
    "c_size = (b.batch_size, 1, 20, 1024)"
   ]
  },
  {
   "cell_type": "code",
   "execution_count": 25,
   "metadata": {
    "collapsed": true
   },
   "outputs": [],
   "source": [
    "g = tf.Graph()\n",
    "with g.as_default():\n",
    "    #try None shapes\n",
    "    x = tf.placeholder(tf.float32,shape=b.shape)\n",
    "    y = tf.placeholder(tf.float32,shape=b.shape)\n",
    "    z = tf.placeholder(tf.float32,shape=c_size)\n",
    "#     z_x = tf.placeholder(tf.float32,shape=c_size)\n",
    "#     z_y = tf.placeholder(tf.float32,shape=c_size)"
   ]
  },
  {
   "cell_type": "markdown",
   "metadata": {},
   "source": [
    "# Z"
   ]
  },
  {
   "cell_type": "code",
   "execution_count": 26,
   "metadata": {
    "collapsed": true
   },
   "outputs": [],
   "source": [
    "def make_z(shape, mean=0., std=1., name='z'):\n",
    "    z = tf.random_normal(shape, mean=mean, stddev=std,\n",
    "                             name=name, dtype=tf.float32)\n",
    "    return z\n",
    "\n",
    "def np_z(shape, mean=0,std=1.):\n",
    "    return np.random.normal(loc=mean,scale=std,size=shape)"
   ]
  },
  {
   "cell_type": "markdown",
   "metadata": {},
   "source": [
    "# Generator"
   ]
  },
  {
   "cell_type": "code",
   "execution_count": 27,
   "metadata": {
    "collapsed": true
   },
   "outputs": [],
   "source": [
    "with g.as_default():\n",
    "    def Gen(x,z,reuse=False):\n",
    "        with tf.variable_scope('Generator') as scope:\n",
    "            if reuse:\n",
    "                scope.reuse_variables()\n",
    "            #Down Colnvolutions\n",
    "            #create variables\n",
    "            with tf.variable_scope('in'):\n",
    "                # Shape (height,width,inchannels,out_channels)\n",
    "                conv1=tf.get_variable('conv1',shape=[1,31,1,1],initializer=tf.truncated_normal_initializer(0,.01))\n",
    "                conv2=tf.get_variable('conv2',shape=[1,31,1,16],initializer=tf.truncated_normal_initializer(0,.01))\n",
    "                conv3=tf.get_variable('conv3',shape=[1,31,16,32],initializer=tf.truncated_normal_initializer(0,.01))\n",
    "                conv4=tf.get_variable('conv4',shape=[1,31,32,32],initializer=tf.truncated_normal_initializer(0,.01))\n",
    "                conv5=tf.get_variable('conv5',shape=[1,31,32,64],initializer=tf.truncated_normal_initializer(0,.01))\n",
    "                conv6=tf.get_variable('conv6',shape=[1,31,64,64],initializer=tf.truncated_normal_initializer(0,.01))\n",
    "                conv7=tf.get_variable('conv7',shape=[1,31,64,128],initializer=tf.truncated_normal_initializer(0,.01))\n",
    "                conv8=tf.get_variable('conv8',shape=[1,31,128,128],initializer=tf.truncated_normal_initializer(0,.01))\n",
    "                conv9=tf.get_variable('conv9',shape=[1,31,128,256],initializer=tf.truncated_normal_initializer(0,.01))\n",
    "                conv10=tf.get_variable('conv10',shape=[1,31,256,256],initializer=tf.truncated_normal_initializer(0,.01))\n",
    "                conv11=tf.get_variable('conv11',shape=[1,31,256,512],initializer=tf.truncated_normal_initializer(0,.01))\n",
    "                conv12=tf.get_variable('conv12',shape=[1,31,512,1024],initializer=tf.truncated_normal_initializer(0,.01))\n",
    "\n",
    "                b1 = tf.get_variable('b1',shape=1,initializer=tf.constant_initializer(0.01))\n",
    "                b2 = tf.get_variable('b2',shape=16,initializer=tf.constant_initializer(0.01))\n",
    "                b3 = tf.get_variable('b3',shape=32,initializer=tf.constant_initializer(0.01))\n",
    "                b4 = tf.get_variable('b4',shape=32,initializer=tf.constant_initializer(0.01))\n",
    "                b5 = tf.get_variable('b5',shape=64,initializer=tf.constant_initializer(0.01))\n",
    "                b6 = tf.get_variable('b6',shape=64,initializer=tf.constant_initializer(0.01))\n",
    "                b7 = tf.get_variable('b7',shape=128,initializer=tf.constant_initializer(0.01))\n",
    "                b8 = tf.get_variable('b8',shape=128,initializer=tf.constant_initializer(0.01))\n",
    "                b9 = tf.get_variable('b9',shape=256,initializer=tf.constant_initializer(0.01))\n",
    "                b10 = tf.get_variable('b10',shape=256,initializer=tf.constant_initializer(0.01))\n",
    "                b11 = tf.get_variable('b11',shape=512,initializer=tf.constant_initializer(0.01))\n",
    "                b12 = tf.get_variable('b12',shape=1024,initializer=tf.constant_initializer(0.01))\n",
    "\n",
    "            #down convolutions operations\n",
    "            with tf.variable_scope('l1'):\n",
    "                l1=prelu(tf.nn.conv2d(x,conv1,strides=[1,1,2,1],padding='SAME')+b1)\n",
    "            with tf.variable_scope('l2'):\n",
    "                l2=prelu(tf.nn.conv2d(l1,conv2,strides=[1,1,2,1],padding='SAME')+b2)\n",
    "            with tf.variable_scope('l3'):\n",
    "                l3=prelu(tf.nn.conv2d(l2,conv3,strides=[1,1,2,1],padding='SAME')+b3)\n",
    "            with tf.variable_scope('l4'):\n",
    "                l4=prelu(tf.nn.conv2d(l3,conv4,strides=[1,1,2,1],padding='SAME')+b4)\n",
    "            with tf.variable_scope('l5'):\n",
    "                l5=prelu(tf.nn.conv2d(l4,conv5,strides=[1,1,2,1],padding='SAME')+b5)\n",
    "            with tf.variable_scope('l6'):\n",
    "                l6=prelu(tf.nn.conv2d(l5,conv6,strides=[1,1,2,1],padding='SAME')+b6)\n",
    "            with tf.variable_scope('l7'):\n",
    "                l7=prelu(tf.nn.conv2d(l6,conv7,strides=[1,1,2,1],padding='SAME')+b7)\n",
    "            with tf.variable_scope('l8'):\n",
    "                l8=prelu(tf.nn.conv2d(l7,conv8,strides=[1,1,2,1],padding='SAME')+b8)\n",
    "            with tf.variable_scope('l9'):\n",
    "                l9=prelu(tf.nn.conv2d(l8,conv9,strides=[1,1,2,1],padding='SAME')+b9)\n",
    "            with tf.variable_scope('l10'):\n",
    "                l10=prelu(tf.nn.conv2d(l9,conv10,strides=[1,1,2,1],padding='SAME')+b10)\n",
    "            with tf.variable_scope('l11'):\n",
    "                l11=prelu(tf.nn.conv2d(l10,conv11,strides=[1,1,2,1],padding='SAME')+b11)\n",
    "            with tf.variable_scope('l12'):\n",
    "                l12=prelu(tf.nn.conv2d(l11,conv12,strides=[1,1,2,1],padding='SAME')+b12)\n",
    "\n",
    "\n",
    "            last_shape = l12.get_shape()\n",
    "            es=int(last_shape[2]) #encoding size\n",
    "            \n",
    "            #generate z\n",
    "            #z = tf.placeholder(tf.float32,shape=last_shape)\n",
    "            #z = make_z(shape=last_shape)\n",
    "\n",
    "            # Transpose Convolution\n",
    "            #Create variables\n",
    "            with tf.variable_scope('out'):\n",
    "                # Shape (height,width,out_channels,input channels)\n",
    "                dconv12 = tf.get_variable('dconv12',shape=[1,31,512,1024],initializer=tf.truncated_normal_initializer(0,.01))\n",
    "                dconv11 = tf.get_variable('dconv11',shape=[1,31,256,512],initializer=tf.truncated_normal_initializer(0,.01))\n",
    "                dconv10 = tf.get_variable('dconv10',shape=[1,31,256,256],initializer=tf.truncated_normal_initializer(0,.01))\n",
    "                dconv9 = tf.get_variable('dconv9',shape=[1,31,128,256],initializer=tf.truncated_normal_initializer(0,.01))\n",
    "                dconv8 = tf.get_variable('dconv8',shape=[1,31,128,128],initializer=tf.truncated_normal_initializer(0,.01))\n",
    "                dconv7 = tf.get_variable('dconv7',shape=[1,31,64,128],initializer=tf.truncated_normal_initializer(0,.01))\n",
    "                dconv6 = tf.get_variable('dconv6',shape=[1,31,64,64],initializer=tf.truncated_normal_initializer(0,.01))\n",
    "                dconv5 = tf.get_variable('dconv5',shape=[1,31,32,64],initializer=tf.truncated_normal_initializer(0,.01))\n",
    "                dconv4 = tf.get_variable('dconv4',shape=[1,31,32,32],initializer=tf.truncated_normal_initializer(0,.01))\n",
    "                dconv3 = tf.get_variable('dconv3',shape=[1,31,16,32],initializer=tf.truncated_normal_initializer(0,.01))\n",
    "                dconv2 = tf.get_variable('dconv2',shape=[1,31,1,16],initializer=tf.truncated_normal_initializer(0,.01))\n",
    "                dconv1 = tf.get_variable('dconv1',shape=[1,31,1,1],initializer=tf.truncated_normal_initializer(0,.01))\n",
    "\n",
    "                db12 = tf.get_variable('b12',shape=512,initializer=tf.constant_initializer(0.01))\n",
    "                db11 = tf.get_variable('b11',shape=256,initializer=tf.constant_initializer(0.01))\n",
    "                db10 = tf.get_variable('b10',shape=256,initializer=tf.constant_initializer(0.01))\n",
    "                db9 = tf.get_variable('b9',shape=128,initializer=tf.constant_initializer(0.01))\n",
    "                db8 = tf.get_variable('b8',shape=128,initializer=tf.constant_initializer(0.01))\n",
    "                db7 = tf.get_variable('b7',shape=64,initializer=tf.constant_initializer(0.01))\n",
    "                db6 = tf.get_variable('b6',shape=64,initializer=tf.constant_initializer(0.01))\n",
    "                db5 = tf.get_variable('b5',shape=32,initializer=tf.constant_initializer(0.01))\n",
    "                db4 = tf.get_variable('b4',shape=32,initializer=tf.constant_initializer(0.01))\n",
    "                db3 = tf.get_variable('b3',shape=16,initializer=tf.constant_initializer(0.01))\n",
    "                db2 = tf.get_variable('b2',shape=1,initializer=tf.constant_initializer(0.01))\n",
    "                db1 = tf.get_variable('b1',shape=1,initializer=tf.constant_initializer(0.01))\n",
    "\n",
    "                with tf.variable_scope('dl12'):\n",
    "                    dl12 = prelu((tf.nn.conv2d_transpose(l12+z,dconv12,\n",
    "                                                          output_shape=[b.batch_size,1,(2**1)*es,512],strides=[1,1,2,1])+db12))#+l11\n",
    "                \n",
    "                with tf.variable_scope('dl11'):\n",
    "                    dl11 = prelu((tf.nn.conv2d_transpose(dl12,dconv11,\n",
    "                                                          output_shape=[b.batch_size,1,(2**2)*es,256],strides=[1,1,2,1])+db11))#+l10\n",
    "                \n",
    "                with tf.variable_scope('dl10'):\n",
    "                    dl10 = prelu((tf.nn.conv2d_transpose(dl11,dconv10,\n",
    "                                                          output_shape=[b.batch_size,1,(2**3)*es,256],strides=[1,1,2,1])+db10))#+l9\n",
    "\n",
    "                with tf.variable_scope('dl9'):\n",
    "                    dl9 = prelu((tf.nn.conv2d_transpose(dl10,dconv9,\n",
    "                                                          output_shape=[b.batch_size,1,(2**4)*es,128],strides=[1,1,2,1])+db9))#+l8\n",
    "                \n",
    "                with tf.variable_scope('dl8'):\n",
    "                    dl8 = prelu((tf.nn.conv2d_transpose(dl9,dconv8,\n",
    "                                                          output_shape=[b.batch_size,1,(2**5)*es,128],strides=[1,1,2,1])+db8))#+l7\n",
    "                \n",
    "                with tf.variable_scope('dl7'):\n",
    "                    dl7 = prelu((tf.nn.conv2d_transpose(dl8,dconv7,\n",
    "                                                          output_shape=[b.batch_size,1,(2**6)*es,64],strides=[1,1,2,1])+db7))#+l6\n",
    "                with tf.variable_scope('dl6'):\n",
    "                    dl6 = prelu((tf.nn.conv2d_transpose(dl7,dconv6,\n",
    "                                                          output_shape=[b.batch_size,1,(2**7)*es,64],strides=[1,1,2,1])+db6))#+l5\n",
    "                with tf.variable_scope('dl5'):\n",
    "                    dl5 = prelu((tf.nn.conv2d_transpose(dl6,dconv5,\n",
    "                                                          output_shape=[b.batch_size,1,(2**8)*es,32],strides=[1,1,2,1])+db5))#+l4\n",
    "                with tf.variable_scope('dl4'):\n",
    "                    dl4 = prelu((tf.nn.conv2d_transpose(dl5,dconv4,\n",
    "                                                          output_shape=[b.batch_size,1,(2**9)*es,32],strides=[1,1,2,1])+db4))#+l3\n",
    "                with tf.variable_scope('dl3'):\n",
    "                    dl3 = prelu((tf.nn.conv2d_transpose(dl4,dconv3,\n",
    "                                                          output_shape=[b.batch_size,1,(2**10)*es,16],strides=[1,1,2,1])+db3))#+l2\n",
    "                with tf.variable_scope('dl2'):\n",
    "                    dl2 = prelu((tf.nn.conv2d_transpose(dl3,dconv2,\n",
    "                                                          output_shape=[b.batch_size,1,(2**11)*es,1],strides=[1,1,2,1])+db2))#+l1\n",
    "                with tf.variable_scope('dl1'):\n",
    "                    dl1 = prelu(tf.nn.conv2d_transpose(dl2,dconv1,\n",
    "                                                       output_shape=[b.batch_size,1,(2**12)*es,1],strides=[1,1,2,1])+db1)#+x\n",
    "        return dl1\n",
    "    "
   ]
  },
  {
   "cell_type": "markdown",
   "metadata": {},
   "source": [
    "# Discriminator"
   ]
  },
  {
   "cell_type": "code",
   "execution_count": 28,
   "metadata": {
    "collapsed": true
   },
   "outputs": [],
   "source": [
    "with g.as_default():\n",
    "    def Dis(x,xc,reuse=False):\n",
    "        with tf.variable_scope('Discriminator') as scope:\n",
    "            if reuse:\n",
    "                scope.reuse_variables()\n",
    "            #Down Colnvolutions\n",
    "            #create variables\n",
    "            with tf.variable_scope('in'):\n",
    "                # Shape (height,width,inchannels,out_channels)\n",
    "                dis_conv1=tf.get_variable('conv1',shape=[1,31,2,1],initializer=tf.truncated_normal_initializer(0,.1))\n",
    "                dis_conv2=tf.get_variable('conv2',shape=[1,31,1,16],initializer=tf.truncated_normal_initializer(0,.1))\n",
    "                dis_conv3=tf.get_variable('conv3',shape=[1,31,16,32],initializer=tf.truncated_normal_initializer(0,.1))\n",
    "                dis_conv4=tf.get_variable('conv4',shape=[1,31,32,32],initializer=tf.truncated_normal_initializer(0,.1))\n",
    "                dis_conv5=tf.get_variable('conv5',shape=[1,31,32,64],initializer=tf.truncated_normal_initializer(0,.1))\n",
    "                dis_conv6=tf.get_variable('conv6',shape=[1,31,64,64],initializer=tf.truncated_normal_initializer(0,.1))\n",
    "                dis_conv7=tf.get_variable('conv7',shape=[1,31,64,128],initializer=tf.truncated_normal_initializer(0,.1))\n",
    "                dis_conv8=tf.get_variable('conv8',shape=[1,31,128,128],initializer=tf.truncated_normal_initializer(0,.01))\n",
    "                dis_conv9=tf.get_variable('conv9',shape=[1,31,128,256],initializer=tf.truncated_normal_initializer(0,.01))\n",
    "                dis_conv10=tf.get_variable('conv10',shape=[1,31,256,256],initializer=tf.truncated_normal_initializer(0,.01))\n",
    "                dis_conv11=tf.get_variable('conv11',shape=[1,31,256,512],initializer=tf.truncated_normal_initializer(0,.01))\n",
    "                dis_conv12=tf.get_variable('conv12',shape=[1,31,512,1024],initializer=tf.truncated_normal_initializer(0,.01))\n",
    "                dis_conv_fin=tf.get_variable('fin_conv',shape=[1,1,1024,1],initializer=tf.truncated_normal_initializer(0,.1))\n",
    "                \n",
    "                dis_b1 = tf.get_variable('b1',shape=1,initializer=tf.constant_initializer(0.))\n",
    "                dis_b2 = tf.get_variable('b2',shape=16,initializer=tf.constant_initializer(0.))\n",
    "                dis_b3 = tf.get_variable('b3',shape=32,initializer=tf.constant_initializer(0.))\n",
    "                dis_b4 = tf.get_variable('b4',shape=32,initializer=tf.constant_initializer(0.))\n",
    "                dis_b5 = tf.get_variable('b5',shape=64,initializer=tf.constant_initializer(0.))\n",
    "                dis_b6 = tf.get_variable('b6',shape=64,initializer=tf.constant_initializer(0.))\n",
    "                dis_b7 = tf.get_variable('b7',shape=128,initializer=tf.constant_initializer(0.1))\n",
    "                dis_b8 = tf.get_variable('b8',shape=128,initializer=tf.constant_initializer(0.01))\n",
    "                dis_b9 = tf.get_variable('b9',shape=256,initializer=tf.constant_initializer(0.01))\n",
    "                dis_b10 = tf.get_variable('b10',shape=256,initializer=tf.constant_initializer(0.01))\n",
    "                dis_b11 = tf.get_variable('b11',shape=512,initializer=tf.constant_initializer(0.01))\n",
    "                dis_b12 = tf.get_variable('b12',shape=1024,initializer=tf.constant_initializer(0.01))\n",
    "                dis_conv_fin_b = tf.get_variable('fin_conv_b',shape=1,initializer=tf.constant_initializer(0.))\n",
    "\n",
    "            #down convolutions operations\n",
    "            with tf.variable_scope('l1'):\n",
    "                dis_l1=lrelu(bn(tf.nn.conv2d(tf.concat([x,xc],axis=3),dis_conv1,strides=[1,1,2,1],padding='SAME')+dis_b1))\n",
    "            with tf.variable_scope('l2'):\n",
    "                dis_l2=lrelu(bn(tf.nn.conv2d(dis_l1,dis_conv2,strides=[1,1,2,1],padding='SAME')+dis_b2))\n",
    "            with tf.variable_scope('l3'):\n",
    "                dis_l3=lrelu(bn(tf.nn.conv2d(dis_l2,dis_conv3,strides=[1,1,2,1],padding='SAME')+dis_b3))\n",
    "            with tf.variable_scope('l4'):\n",
    "                dis_l4=lrelu(bn(tf.nn.conv2d(dis_l3,dis_conv4,strides=[1,1,2,1],padding='SAME')+dis_b4))\n",
    "            with tf.variable_scope('l5'):\n",
    "                dis_l5=lrelu(bn(tf.nn.conv2d(dis_l4,dis_conv5,strides=[1,1,2,1],padding='SAME')+dis_b5))\n",
    "            with tf.variable_scope('l6'):\n",
    "                dis_l6=lrelu(bn(tf.nn.conv2d(dis_l5,dis_conv6,strides=[1,1,2,1],padding='SAME')+dis_b6))\n",
    "            with tf.variable_scope('l7'):\n",
    "                dis_l7=lrelu(bn(tf.nn.conv2d(dis_l6,dis_conv7,strides=[1,1,2,1],padding='SAME')+dis_b7))\n",
    "            with tf.variable_scope('l8'):\n",
    "                dis_l8=lrelu(bn(tf.nn.conv2d(dis_l7,dis_conv8,strides=[1,1,2,1],padding='SAME')+dis_b8))\n",
    "            with tf.variable_scope('l9'):\n",
    "                dis_l9=lrelu(bn(tf.nn.conv2d(dis_l8,dis_conv9,strides=[1,1,2,1],padding='SAME')+dis_b9))\n",
    "            with tf.variable_scope('l10'):\n",
    "                dis_l10=lrelu(bn(tf.nn.conv2d(dis_l9,dis_conv10,strides=[1,1,2,1],padding='SAME')+dis_b10))\n",
    "            with tf.variable_scope('l11'):\n",
    "                dis_l11=lrelu(bn(tf.nn.conv2d(dis_l10,dis_conv11,strides=[1,1,2,1],padding='SAME')+dis_b11))\n",
    "            with tf.variable_scope('l12'):\n",
    "                dis_l12=lrelu(bn(tf.nn.conv2d(dis_l11,dis_conv12,strides=[1,1,2,1],padding='SAME')+dis_b12))\n",
    "            with tf.variable_scope('fin_conv_l'):\n",
    "                dis_fin_conv_l = bn(tf.nn.conv2d(dis_l12,dis_conv_fin,\n",
    "                                                    strides=[1,1,1,1],padding='SAME')+dis_conv_fin_b,scaling=True)\n",
    "\n",
    "            dis_last_shape = dis_fin_conv_l.get_shape()\n",
    "            dis_es=int(dis_last_shape[2])*int(dis_last_shape[3]) #size of encoding\n",
    "            dis_last = tf.reshape(dis_fin_conv_l,[b.batch_size,dis_es])\n",
    "\n",
    "            #fully connected\n",
    "            with tf.variable_scope('fc'):\n",
    "                W_fc = tf.get_variable('W',shape=[dis_es,1],initializer=tf.truncated_normal_initializer(0.1))\n",
    "                b_fc = tf.get_variable('b',shape=[1],initializer=tf.constant_initializer(0.1))\n",
    "\n",
    "            D_out = tf.sigmoid(tf.matmul(dis_last,W_fc)+b_fc)\n",
    "        return D_out"
   ]
  },
  {
   "cell_type": "markdown",
   "metadata": {},
   "source": [
    "# Loss functions and Optimization ops"
   ]
  },
  {
   "cell_type": "code",
   "execution_count": 29,
   "metadata": {
    "collapsed": true
   },
   "outputs": [],
   "source": [
    "eps = .01\n",
    "with g.as_default():\n",
    "    #compute Forward pass\n",
    "#     with tf.device('/gpu:0'):\n",
    "    with tf.variable_scope('X_Y'):\n",
    "        G_x = Gen(x,z)\n",
    "        D_G_x = Dis(G_x,x)\n",
    "        D_y = Dis(y,x,reuse=True)\n",
    "    \n",
    "    with tf.variable_scope('Y_X'):\n",
    "        G_y = Gen(y,z)\n",
    "        D_G_y = Dis(G_x,x)\n",
    "        D_x = Dis(x,y,reuse=True)\n",
    "        G_G_x = Gen(G_x,z,reuse=True)\n",
    "    \n",
    "#     with tf.device('/gpu:0'):\n",
    "    with tf.variable_scope('X_Y'):\n",
    "        G_G_y = Gen(G_y,z,reuse=True)\n",
    "    \n",
    "    # loss functions\n",
    "    # Discriminator Losses\n",
    "    \n",
    "    loss_d_y = tf.reduce_mean(tf.square(D_y-1)) + tf.reduce_mean(tf.square(D_G_x))\n",
    "    loss_d_x = tf.reduce_mean(tf.square(D_x-1)) + tf.reduce_mean(tf.square(D_G_y))\n",
    "    loss_d = loss_d_y + loss_d_x \n",
    "    \n",
    "    # Cycle Consistence Losses\n",
    "    loss_cycle = cycle_reg*(tf.abs(G_G_x - x)+tf.abs(G_G_y-y))\n",
    "    \n",
    "    # Generator Losses (wish to minimize during second part)\n",
    "    loss_g_x = tf.reduce_mean(tf.square(D_G_x-1))\n",
    "    loss_g_y = tf.reduce_mean(tf.square(D_G_y-1))\n",
    "    loss_g = loss_g_x+loss_g_y +loss_cycle\n",
    "    \n",
    "\n",
    "    #optimizer\n",
    "    optimizer = tf.train.AdamOptimizer(learning_rate=.0002)\n",
    "    \n",
    "    #Variable lists\n",
    "    dvars = [e for e in g.get_collection('trainable_variables') if 'Discriminator' in e.name]\n",
    "    gvars = [e for e in g.get_collection('trainable_variables') if 'Generator' in e.name]\n",
    "    \n",
    "    grad_d,var_d = zip(*optimizer.compute_gradients(loss_d,var_list=dvars))\n",
    "    grad_g,var_g = zip(*optimizer.compute_gradients(loss_g,var_list=gvars))\n",
    "    grad_d_clipped,_=tf.clip_by_global_norm(grad_d,5.)\n",
    "    grad_g_clipped,_=tf.clip_by_global_norm(grad_g,5.)\n",
    "    opt1=optimizer.apply_gradients(zip(grad_d_clipped,var_d))\n",
    "    opt2=optimizer.apply_gradients(zip(grad_g_clipped,var_g))"
   ]
  },
  {
   "cell_type": "markdown",
   "metadata": {},
   "source": [
    "# Summary"
   ]
  },
  {
   "cell_type": "code",
   "execution_count": 30,
   "metadata": {
    "collapsed": true
   },
   "outputs": [],
   "source": [
    "with g.as_default():\n",
    "    # Summmary \n",
    "    global_step = tf.Variable(0, name='global_step', trainable=False)\n",
    "    inc = tf.assign_add(global_step, 1, name='increment')\n",
    "    \n",
    "    # Plots\n",
    "    tf.summary.scalar('dis_loss_x', tf.reduce_mean(loss_d_x))\n",
    "    tf.summary.scalar('dis_loss_y', tf.reduce_mean(loss_d_y))\n",
    "#     tf.summary.scalar('dis_loss', loss1)\n",
    "#     tf.summary.scalar('gen_loss', loss2)\n",
    "    tf.summary.scalar('Cycle_loss',tf.reduce_mean(loss_cycle))\n",
    "    tf.summary.scalar('step',global_step)\n",
    "    \n",
    "    # Histograms\n",
    "    tf.summary.histogram('D_y', D_y)\n",
    "    tf.summary.histogram('D_G_x', D_G_x)\n",
    "    \n",
    "    \n",
    "    # Audio\n",
    "    tf.summary.audio('Input_Audio_X',tf.expand_dims(tf.squeeze(x),axis=0),SMP_RATE,max_outputs=1)\n",
    "    tf.summary.audio('Input_Audio_Y',tf.expand_dims(tf.squeeze(y),axis=0),SMP_RATE,max_outputs=1)\n",
    "    tf.summary.audio('Generated_Audio_X_Y',tf.expand_dims(tf.squeeze(G_x),axis=0),SMP_RATE,max_outputs=1)\n",
    "    tf.summary.audio('Generated_Audio_Y_X',tf.expand_dims(tf.squeeze(G_y),axis=0),SMP_RATE,max_outputs=1)\n",
    "    \n",
    "    merged = tf.summary.merge_all()\n",
    "    \n",
    "writer = tf.summary.FileWriter(save_path.split('/')[0],g)"
   ]
  },
  {
   "cell_type": "markdown",
   "metadata": {},
   "source": [
    "# Initializer"
   ]
  },
  {
   "cell_type": "code",
   "execution_count": 31,
   "metadata": {
    "collapsed": true
   },
   "outputs": [],
   "source": [
    "with g.as_default():    \n",
    "    #initializer\n",
    "    init = tf.global_variables_initializer()\n",
    "\n",
    "    #saver\n",
    "    saver = tf.train.Saver()"
   ]
  },
  {
   "cell_type": "markdown",
   "metadata": {},
   "source": [
    "# Hyper parameters"
   ]
  },
  {
   "cell_type": "code",
   "execution_count": 32,
   "metadata": {
    "collapsed": true
   },
   "outputs": [],
   "source": [
    "k = 3"
   ]
  },
  {
   "cell_type": "markdown",
   "metadata": {},
   "source": [
    "# Initialization"
   ]
  },
  {
   "cell_type": "code",
   "execution_count": 33,
   "metadata": {
    "collapsed": true
   },
   "outputs": [],
   "source": [
    "dlosses = []\n",
    "glosses = []\n",
    "#gpu_options = tf.GPUOptions(allow_growth=True)\n",
    "sess = tf.Session(graph=g)\n",
    "#sess = tf.Session(graph=g,config=tf.ConfigProto(gpu_options=gpu_options,allow_soft_placement=True))\n",
    "sess.run(init) \n",
    "#saver.restore(sess,save_path) #comment to start training over"
   ]
  },
  {
   "cell_type": "markdown",
   "metadata": {},
   "source": [
    "# Train Steps"
   ]
  },
  {
   "cell_type": "code",
   "execution_count": 34,
   "metadata": {},
   "outputs": [
    {
     "data": {
      "text/plain": [
       "2.6761819803746656"
      ]
     },
     "execution_count": 34,
     "metadata": {},
     "output_type": "execute_result"
    }
   ],
   "source": [
    "100*30*1.*b.batch_size/len(bin_mapping)"
   ]
  },
  {
   "cell_type": "code",
   "execution_count": null,
   "metadata": {},
   "outputs": [
    {
     "name": "stderr",
     "output_type": "stream",
     "text": [
      "  0%|          | 444/150000 [14:24<80:15:52,  1.93s/it]"
     ]
    }
   ],
   "source": [
    "num_steps = int(100*30*50)\n",
    "save_step = 500*30\n",
    "summary_step = 11\n",
    "for i in tqdm(xrange(num_steps)):\n",
    "    x_data,y_data = b.getBatch()\n",
    "    _z = np_z(c_size)\n",
    "    fd = {x:x_data,y:y_data,z:_z}\n",
    "    _,dl = sess.run([opt1,loss_d],feed_dict=fd)\n",
    "    for _ in range(k):\n",
    "        #fd[z] = np_z((b.batch_size, 1, 375, 128))\n",
    "        _,_,gl = sess.run([opt2,inc,loss_g],feed_dict=fd)\n",
    "    dlosses.append(dl)\n",
    "    glosses.append(gl)\n",
    "    \n",
    "    if i % summary_step == 0:\n",
    "        summary,gs = sess.run([merged,global_step],feed_dict=fd)\n",
    "        writer.add_summary(summary,gs)\n",
    "    if i % save_step == 0:\n",
    "        save_path = saver.save(sess, save_path)"
   ]
  },
  {
   "cell_type": "markdown",
   "metadata": {},
   "source": [
    "# Evaluation Losses"
   ]
  },
  {
   "cell_type": "code",
   "execution_count": 38,
   "metadata": {},
   "outputs": [
    {
     "data": {
      "text/plain": [
       "<function matplotlib.pyplot.show>"
      ]
     },
     "execution_count": 38,
     "metadata": {},
     "output_type": "execute_result"
    },
    {
     "data": {
      "image/png": "[encoded data removed]",
      "text/plain": [
       "<matplotlib.figure.Figure at 0x7f63c90427d0>"
      ]
     },
     "metadata": {},
     "output_type": "display_data"
    }
   ],
   "source": [
    "plt.subplot(121)\n",
    "plt.plot(dlosses,color='red')\n",
    "plt.subplot(122)\n",
    "plt.plot(glosses,color='green')\n",
    "plt.show"
   ]
  },
  {
   "cell_type": "markdown",
   "metadata": {},
   "source": [
    "# Evaluate Data"
   ]
  },
  {
   "cell_type": "code",
   "execution_count": 39,
   "metadata": {},
   "outputs": [
    {
     "name": "stdout",
     "output_type": "stream",
     "text": [
      "(32, 1, 12, 1024)\n"
     ]
    }
   ],
   "source": [
    "with g.as_default():\n",
    "    gen_audio = Gen(x,_z,reuse=True)"
   ]
  },
  {
   "cell_type": "code",
   "execution_count": 40,
   "metadata": {
    "collapsed": true
   },
   "outputs": [],
   "source": [
    "x_data,y_data = b.getBatch() #uncomment if not training\n",
    "fd = {x:x_data,y:y_data} #uncomment if not training\n",
    "result = sess.run(gen_audio,feed_dict=fd)"
   ]
  },
  {
   "cell_type": "code",
   "execution_count": 46,
   "metadata": {},
   "outputs": [
    {
     "data": {
      "text/plain": [
       "<matplotlib.legend.Legend at 0x7f6368e3b510>"
      ]
     },
     "execution_count": 46,
     "metadata": {},
     "output_type": "execute_result"
    },
    {
     "data": {
      "image/png": "[encoded data removed]",
      "text/plain": [
       "<matplotlib.figure.Figure at 0x7f6369050d90>"
      ]
     },
     "metadata": {},
     "output_type": "display_data"
    }
   ],
   "source": [
    "plt.figure(figsize=(15,5))\n",
    "plt.subplot(311)\n",
    "plt.plot(x_data[0,0,:,0],color='black')\n",
    "plt.legend(['Male'])\n",
    "plt.subplot(312)\n",
    "plt.plot(result[0,0,:,0],color='green')\n",
    "plt.legend(['Generated'],loc='upper right')\n",
    "plt.subplot(313)\n",
    "plt.plot(y_data[0,0,:,0],color='blue')\n",
    "plt.legend(['Female'])"
   ]
  },
  {
   "cell_type": "code",
   "execution_count": 220,
   "metadata": {},
   "outputs": [
    {
     "name": "stdout",
     "output_type": "stream",
     "text": [
      "Generator/in/conv1:0\n",
      "Generator/in/conv2:0\n",
      "Generator/in/conv3:0\n",
      "Generator/in/conv4:0\n",
      "Generator/in/conv5:0\n",
      "Generator/in/conv6:0\n",
      "Generator/in/conv7:0\n",
      "Generator/in/b1:0\n",
      "Generator/in/b2:0\n",
      "Generator/in/b3:0\n",
      "Generator/in/b4:0\n",
      "Generator/in/b5:0\n",
      "Generator/in/b6:0\n",
      "Generator/in/b7:0\n",
      "Generator/l1/prelu/alpha:0\n",
      "Generator/l2/prelu/alpha:0\n",
      "Generator/l3/prelu/alpha:0\n",
      "Generator/l4/prelu/alpha:0\n",
      "Generator/l5/prelu/alpha:0\n",
      "Generator/l6/prelu/alpha:0\n",
      "Generator/l7/prelu/alpha:0\n",
      "Generator/out/dconv7:0\n",
      "Generator/out/dconv6:0\n",
      "Generator/out/dconv5:0\n",
      "Generator/out/dconv4:0\n",
      "Generator/out/dconv3:0\n",
      "Generator/out/dconv2:0\n",
      "Generator/out/dconv1:0\n",
      "Generator/out/b7:0\n",
      "Generator/out/b6:0\n",
      "Generator/out/b5:0\n",
      "Generator/out/b4:0\n",
      "Generator/out/b3:0\n",
      "Generator/out/b2:0\n",
      "Generator/out/b1:0\n",
      "Generator/out/dl7/bn/gamma:0\n",
      "Generator/out/dl7/bn/beta:0\n",
      "Generator/out/dl7/prelu/alpha:0\n",
      "Generator/out/dl6/bn/gamma:0\n",
      "Generator/out/dl6/bn/beta:0\n",
      "Generator/out/dl6/prelu/alpha:0\n",
      "Generator/out/dl5/bn/gamma:0\n",
      "Generator/out/dl5/bn/beta:0\n",
      "Generator/out/dl5/prelu/alpha:0\n",
      "Generator/out/dl4/bn/gamma:0\n",
      "Generator/out/dl4/bn/beta:0\n",
      "Generator/out/dl4/prelu/alpha:0\n",
      "Generator/out/dl3/bn/gamma:0\n",
      "Generator/out/dl3/bn/beta:0\n",
      "Generator/out/dl3/prelu/alpha:0\n",
      "Generator/out/dl2/bn/gamma:0\n",
      "Generator/out/dl2/bn/beta:0\n",
      "Generator/out/dl2/prelu/alpha:0\n",
      "Discriminator/in/conv1:0\n",
      "Discriminator/in/conv2:0\n",
      "Discriminator/in/conv3:0\n",
      "Discriminator/in/conv4:0\n",
      "Discriminator/in/conv5:0\n",
      "Discriminator/in/conv6:0\n",
      "Discriminator/in/conv7:0\n",
      "Discriminator/in/fin_conv:0\n",
      "Discriminator/in/b1:0\n",
      "Discriminator/in/b2:0\n",
      "Discriminator/in/b3:0\n",
      "Discriminator/in/b4:0\n",
      "Discriminator/in/b5:0\n",
      "Discriminator/in/b6:0\n",
      "Discriminator/in/b7:0\n",
      "Discriminator/in/fin_conv_b:0\n",
      "Discriminator/l1/bn/gamma:0\n",
      "Discriminator/l1/bn/beta:0\n",
      "Discriminator/l2/bn/gamma:0\n",
      "Discriminator/l2/bn/beta:0\n",
      "Discriminator/l3/bn/gamma:0\n",
      "Discriminator/l3/bn/beta:0\n",
      "Discriminator/l4/bn/gamma:0\n",
      "Discriminator/l4/bn/beta:0\n",
      "Discriminator/l5/bn/gamma:0\n",
      "Discriminator/l5/bn/beta:0\n",
      "Discriminator/l6/bn/gamma:0\n",
      "Discriminator/l6/bn/beta:0\n",
      "Discriminator/l7/bn/gamma:0\n",
      "Discriminator/l7/bn/beta:0\n",
      "Discriminator/fin_conv_l/bn/gamma:0\n",
      "Discriminator/fin_conv_l/bn/beta:0\n",
      "Discriminator/fc/W:0\n",
      "Discriminator/fc/b:0\n"
     ]
    }
   ],
   "source": [
    "for i in g.get_collection('trainable_variables'):\n",
    "    print i.name"
   ]
  },
  {
   "cell_type": "markdown",
   "metadata": {},
   "source": [
    "# Write to audio file"
   ]
  },
  {
   "cell_type": "code",
   "execution_count": 96,
   "metadata": {
    "collapsed": true
   },
   "outputs": [],
   "source": [
    "#generated\n",
    "f = open('samples/generated_audio1.wav','wr')\n",
    "wavfile.write(f,SMP_RATE,result[0,0,:,0].astype(np.int16))\n",
    "f.close()"
   ]
  },
  {
   "cell_type": "code",
   "execution_count": 44,
   "metadata": {
    "collapsed": true
   },
   "outputs": [],
   "source": [
    "#original\n",
    "f = open('samples/org_audio1.wav','wr')\n",
    "wavfile.write(f,SMP_RATE,x_data[0,0,:,0].astype(np.int16))\n",
    "f.close()"
   ]
  },
  {
   "cell_type": "code",
   "execution_count": 45,
   "metadata": {
    "collapsed": true
   },
   "outputs": [],
   "source": [
    "#target\n",
    "f = open('samples/target_audio1.wav','wr')\n",
    "wavfile.write(f,SMP_RATE,y_data[0,0,:,0].astype(np.int16))\n",
    "f.close()"
   ]
  },
  {
   "cell_type": "code",
   "execution_count": null,
   "metadata": {
    "collapsed": true
   },
   "outputs": [],
   "source": []
  }
 ],
 "metadata": {
  "anaconda-cloud": {},
  "kernelspec": {
   "display_name": "Python 2",
   "language": "python",
   "name": "python2"
  },
  "language_info": {
   "codemirror_mode": {
    "name": "ipython",
    "version": 2
   },
   "file_extension": ".py",
   "mimetype": "text/x-python",
   "name": "python",
   "nbconvert_exporter": "python",
   "pygments_lexer": "ipython2",
   "version": "2.7.13"
  }
 },
 "nbformat": 4,
 "nbformat_minor": 2
}
